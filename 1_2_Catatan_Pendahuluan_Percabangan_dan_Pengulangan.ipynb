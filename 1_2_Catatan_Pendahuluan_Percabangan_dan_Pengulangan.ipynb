{
  "nbformat": 4,
  "nbformat_minor": 0,
  "metadata": {
    "colab": {
      "provenance": [],
      "collapsed_sections": [
        "tu1Xt4cVReNX",
        "rWEkVaxWLZgY",
        "uSb3HtUrLpiU"
      ],
      "authorship_tag": "ABX9TyO9iWjdEmqmVDiV22wKHxj6",
      "include_colab_link": true
    },
    "kernelspec": {
      "name": "python3",
      "display_name": "Python 3"
    },
    "language_info": {
      "name": "python"
    }
  },
  "cells": [
    {
      "cell_type": "markdown",
      "metadata": {
        "id": "view-in-github",
        "colab_type": "text"
      },
      "source": [
        "<a href=\"https://colab.research.google.com/github/riinndescartes/Pemrograman-Lanjut-Python-DS23/blob/main/1_2_Catatan_Pendahuluan_Percabangan_dan_Pengulangan.ipynb\" target=\"_parent\"><img src=\"https://colab.research.google.com/assets/colab-badge.svg\" alt=\"Open In Colab\"/></a>"
      ]
    },
    {
      "cell_type": "markdown",
      "source": [
        "#PENDAHULUAN DAN PERCABANGAN"
      ],
      "metadata": {
        "id": "syGX0OoJsLkI"
      }
    },
    {
      "cell_type": "code",
      "execution_count": null,
      "metadata": {
        "colab": {
          "base_uri": "https://localhost:8080/",
          "height": 106
        },
        "id": "sLl-TP1NJhhA",
        "outputId": "a4e7d1c6-f526-4479-ffc1-48a76e3077ef"
      },
      "outputs": [
        {
          "output_type": "error",
          "ename": "IndentationError",
          "evalue": "expected an indented block after 'if' statement on line 1 (<ipython-input-1-95987d60aa15>, line 2)",
          "traceback": [
            "\u001b[0;36m  File \u001b[0;32m\"<ipython-input-1-95987d60aa15>\"\u001b[0;36m, line \u001b[0;32m2\u001b[0m\n\u001b[0;31m    print(str(N) + \" adalah bilangan positif\")\u001b[0m\n\u001b[0m    ^\u001b[0m\n\u001b[0;31mIndentationError\u001b[0m\u001b[0;31m:\u001b[0m expected an indented block after 'if' statement on line 1\n"
          ]
        }
      ],
      "source": [
        "if N > 0:\n",
        "print(str(N) + \" adalah bilangan positif\")\n",
        "else:  # N <= 0\n",
        "print(str(N) + \" adalah bilangan bukan positif\""
      ]
    },
    {
      "cell_type": "code",
      "source": [
        "if 5 > 0:\n",
        "  print(str(5) + \" adalah bilangan positif\")\n",
        "else:  # N <= 0\n",
        "  print(str(5) + \" adalah bilangan bukan positif\")"
      ],
      "metadata": {
        "colab": {
          "base_uri": "https://localhost:8080/"
        },
        "id": "qMKmP0QtJjGK",
        "outputId": "8b5ded5c-0959-449d-a06c-032953b6f72c"
      },
      "execution_count": null,
      "outputs": [
        {
          "output_type": "stream",
          "name": "stdout",
          "text": [
            "5 adalah bilangan positif\n"
          ]
        }
      ]
    },
    {
      "cell_type": "code",
      "source": [
        "\n",
        "variabel = 7 #ini adalah variabel\n",
        "print(f\"Dengan format {variabel}\")\n",
        "\n",
        "\n",
        " \"\"\"\n",
        " '''\n"
      ],
      "metadata": {
        "colab": {
          "base_uri": "https://localhost:8080/"
        },
        "id": "qdbTcUeAOMxq",
        "outputId": "418a4794-45a5-4452-a5f4-5857dccdfa7e"
      },
      "execution_count": null,
      "outputs": [
        {
          "output_type": "stream",
          "name": "stdout",
          "text": [
            "Dengan format 7\n"
          ]
        }
      ]
    },
    {
      "cell_type": "code",
      "source": [
        "X = 101\n",
        "Y= 4\n",
        "\n",
        "X//Y\n",
        "X/Y\n",
        "\n",
        "print(X//Y)\n",
        "print(X/Y)"
      ],
      "metadata": {
        "colab": {
          "base_uri": "https://localhost:8080/"
        },
        "id": "XOBh4-JWO5WM",
        "outputId": "00e6a186-43f2-4a5b-aa44-01f56268ec4a"
      },
      "execution_count": null,
      "outputs": [
        {
          "output_type": "stream",
          "name": "stdout",
          "text": [
            "25\n",
            "25.25\n"
          ]
        }
      ]
    },
    {
      "cell_type": "markdown",
      "source": [
        "#PERULANGAN"
      ],
      "metadata": {
        "id": "tu1Xt4cVReNX"
      }
    },
    {
      "cell_type": "markdown",
      "source": [
        "#EKSPLORASI PRIBADI DI KELAS"
      ],
      "metadata": {
        "id": "ZtjHLYwXK8k0"
      }
    },
    {
      "cell_type": "markdown",
      "source": [
        "PENGENALAN LIST\n",
        "\n",
        "List merupakan *mutable* atau berarti Anda dapat mengubah elemen-elemennya setelah list dibuat. Anda dapat menambah, menghapus, atau memodifikasi elemen dalam list."
      ],
      "metadata": {
        "id": "NG9vNmSCqZR7"
      }
    },
    {
      "cell_type": "code",
      "source": [
        "my_list = [1, 2, 3]\n",
        "my_list[2] = 10  # List dapat diubah\n",
        "print(my_list)  # Output: [10, 2, 3]"
      ],
      "metadata": {
        "colab": {
          "base_uri": "https://localhost:8080/"
        },
        "id": "5AXEb_0uqX1r",
        "outputId": "6ebb0337-4baa-4414-ac64-8219d0333be8"
      },
      "execution_count": null,
      "outputs": [
        {
          "output_type": "stream",
          "name": "stdout",
          "text": [
            "[1, 2, 10]\n"
          ]
        }
      ]
    },
    {
      "cell_type": "markdown",
      "source": [
        "PENGENALAN TUPLE\n",
        "\n",
        "*Tuple* adalah *immutable*, artinya setelah tuple dibuat, elemen-elemennya tidak bisa diubah, ditambah, atau dihapus."
      ],
      "metadata": {
        "id": "cDYaz7zQqtI5"
      }
    },
    {
      "cell_type": "code",
      "source": [
        "my_tuple = (1, 2, 3)\n",
        "       my_tuple[0] = 10  # Akan menghasilkan error karena tuple tidak bisa diubah"
      ],
      "metadata": {
        "colab": {
          "base_uri": "https://localhost:8080/",
          "height": 106
        },
        "id": "G5RRE4rFqtpI",
        "outputId": "0dfd5e0a-c38c-4397-c8a3-1a07b97d04bd"
      },
      "execution_count": null,
      "outputs": [
        {
          "output_type": "error",
          "ename": "IndentationError",
          "evalue": "unexpected indent (<ipython-input-27-d066fc9b516e>, line 2)",
          "traceback": [
            "\u001b[0;36m  File \u001b[0;32m\"<ipython-input-27-d066fc9b516e>\"\u001b[0;36m, line \u001b[0;32m2\u001b[0m\n\u001b[0;31m    my_tuple[0] = 10  # Akan menghasilkan error karena tuple tidak bisa diubah\u001b[0m\n\u001b[0m    ^\u001b[0m\n\u001b[0;31mIndentationError\u001b[0m\u001b[0;31m:\u001b[0m unexpected indent\n"
          ]
        }
      ]
    },
    {
      "cell_type": "markdown",
      "source": [
        "INTRO PERULANGAN"
      ],
      "metadata": {
        "id": "6KfNUKdGq8Te"
      }
    },
    {
      "cell_type": "code",
      "source": [
        "print(1)\n",
        "print(2)\n",
        "print(3)\n",
        "print(4)\n",
        "print(5)\n",
        "print(6)\n",
        "print(7)\n",
        "print(8)\n",
        "print(9)\n",
        "print(10)"
      ],
      "metadata": {
        "id": "hi6Ttbj4W8ft",
        "colab": {
          "base_uri": "https://localhost:8080/"
        },
        "outputId": "af54a907-6ef3-4c2b-927e-eb036d42695d"
      },
      "execution_count": null,
      "outputs": [
        {
          "output_type": "stream",
          "name": "stdout",
          "text": [
            "1\n",
            "2\n",
            "3\n",
            "4\n",
            "5\n",
            "6\n",
            "7\n",
            "8\n",
            "9\n",
            "10\n"
          ]
        }
      ]
    },
    {
      "cell_type": "markdown",
      "source": [
        "1.1. JENIS PERULANGAN: FOR LOOP"
      ],
      "metadata": {
        "id": "7TjV_uVtXdZn"
      }
    },
    {
      "cell_type": "code",
      "source": [
        "var_list = [1,2,3,4,5,6,7,8,9,10]\n",
        "for i in var_list:\n",
        "    print(i)"
      ],
      "metadata": {
        "id": "jX00iTsGXFBr",
        "colab": {
          "base_uri": "https://localhost:8080/"
        },
        "outputId": "11b03a5d-1314-40ab-847e-1eceb382a937"
      },
      "execution_count": null,
      "outputs": [
        {
          "output_type": "stream",
          "name": "stdout",
          "text": [
            "1\n",
            "2\n",
            "3\n",
            "4\n",
            "5\n",
            "6\n",
            "7\n",
            "8\n",
            "9\n",
            "10\n"
          ]
        }
      ]
    },
    {
      "cell_type": "code",
      "source": [
        "huruf = \"Sains Data IKOPIN University\"\n",
        "for i in huruf:\n",
        "    print(i)"
      ],
      "metadata": {
        "id": "Bq8nwjAvf2Em",
        "colab": {
          "base_uri": "https://localhost:8080/"
        },
        "outputId": "d2983a91-4361-4dc1-ea9b-2c9fbe69f0cd"
      },
      "execution_count": null,
      "outputs": [
        {
          "output_type": "stream",
          "name": "stdout",
          "text": [
            "S\n",
            "a\n",
            "i\n",
            "n\n",
            "s\n",
            " \n",
            "D\n",
            "a\n",
            "t\n",
            "a\n",
            " \n",
            "I\n",
            "K\n",
            "O\n",
            "P\n",
            "I\n",
            "N\n",
            " \n",
            "U\n",
            "n\n",
            "i\n",
            "v\n",
            "e\n",
            "r\n",
            "s\n",
            "i\n",
            "t\n",
            "y\n"
          ]
        }
      ]
    },
    {
      "cell_type": "code",
      "source": [
        "for i in range(10): # bisa juga disebut for i in range (0, 10, 1) : karena secara defult jika start dan step tidak diinisialisasikan\n",
        "                    #maka secara otomatis start = 0 (perulangan dimulai dari angka 0 secara indexing),\n",
        "                    #dan step = 1 (bertambah 1 angka setelah angka pertama ter-print).\n",
        "                    # Walaupun batas stop perulangan adalah 10 namun angka tersebut tidak menjadi output terakhir, melainkan 9.\n",
        "    print(i)"
      ],
      "metadata": {
        "id": "gg7jjbjlXWSD",
        "colab": {
          "base_uri": "https://localhost:8080/"
        },
        "outputId": "5cdf932e-6ad6-4739-aa98-67646405b8e1"
      },
      "execution_count": null,
      "outputs": [
        {
          "output_type": "stream",
          "name": "stdout",
          "text": [
            "0\n",
            "1\n",
            "2\n",
            "3\n",
            "4\n",
            "5\n",
            "6\n",
            "7\n",
            "8\n",
            "9\n"
          ]
        }
      ]
    },
    {
      "cell_type": "code",
      "source": [
        "for i in range (1000):\n",
        "  print(\" Hello World\")"
      ],
      "metadata": {
        "id": "T5eU67WZJvoN"
      },
      "execution_count": null,
      "outputs": []
    },
    {
      "cell_type": "markdown",
      "source": [
        "- Interpretasi Coding:\n",
        "  \n",
        "  Program memiliki struktur sintaks perulangan sebagai berikut,\n",
        "\n",
        "  `for <variabel> in range <'iterable>`\n",
        "    \n",
        "    `<statement (s)>`\n",
        "\n",
        "  Artinya adalah, sintaks tersebut menggunakan perulangan (loop) `for` dalam Python untuk mencetak teks \"Hello World\" sebanyak 1000 kali (angka dalam rentang 1000 atau 0-999 secara *indexing*). Bagian `for i in range(1000):` berarti perulangan akan berjalan 1000 kali, dengan variabel `i` secara otomatis mengambil nilai dari 0 hingga 999. Meskipun variabel `i` ada, nilainya tidak digunakan dalam program ini. Di dalam loop, ada perintah `print(\" Hello World\")` yang menampilkan teks \"Hello World\" pada setiap iterasi. Akibatnya, output \"Hello World\" akan muncul sebanyak 1000 kali berturut-turut di layar."
      ],
      "metadata": {
        "id": "FD0-IweDMV9b"
      }
    },
    {
      "cell_type": "code",
      "source": [
        "for i in range(1,10,2):\n",
        "    print(i)"
      ],
      "metadata": {
        "id": "p-vs5HkyXaV4",
        "colab": {
          "base_uri": "https://localhost:8080/"
        },
        "outputId": "15dacc93-aece-4d83-ecbe-2ff4ff887061"
      },
      "execution_count": null,
      "outputs": [
        {
          "output_type": "stream",
          "name": "stdout",
          "text": [
            "1\n",
            "3\n",
            "5\n",
            "7\n",
            "9\n"
          ]
        }
      ]
    },
    {
      "cell_type": "code",
      "source": [
        "for i in range(2 , 5, 1): # bisa disebut memiliki iterasi dengan start = 2, stop = 5, step = 1.\n",
        "  print('i')\n",
        "              # Dimulai dari angka 2, bertambah 1 angka hingga iterasi mencapai nilai batasnya yaitu 5."
      ],
      "metadata": {
        "id": "x7munsT7QsMp",
        "colab": {
          "base_uri": "https://localhost:8080/"
        },
        "outputId": "38386213-e9b4-4ec2-d548-f5b75170aa3e"
      },
      "execution_count": null,
      "outputs": [
        {
          "output_type": "stream",
          "name": "stdout",
          "text": [
            "i\n",
            "i\n",
            "i\n"
          ]
        }
      ]
    },
    {
      "cell_type": "code",
      "source": [
        "for i in range(7 ,\t2,\t-1): # Start= 7, Stop = 2, Step = -1\n",
        "   print(i)               # Dimulai dari angka 7, berkurang sebanyak -1 terus hingga mencapai batas akhirnya yaitu 2.\n",
        "                  # Angka terakhir yang keluar adalah 3."
      ],
      "metadata": {
        "id": "GFI2OL8RQuB0",
        "colab": {
          "base_uri": "https://localhost:8080/"
        },
        "outputId": "671ef73d-a990-4753-f6ee-b2931080c35a"
      },
      "execution_count": null,
      "outputs": [
        {
          "output_type": "stream",
          "name": "stdout",
          "text": [
            "7\n",
            "6\n",
            "5\n",
            "4\n",
            "3\n"
          ]
        }
      ]
    },
    {
      "cell_type": "code",
      "source": [
        "a = int( input())\n",
        "b = int( input())\n",
        "\n",
        "for i in range(a, b+1):\n",
        "  print(i)\n"
      ],
      "metadata": {
        "id": "9xO2_HYfKZIm",
        "colab": {
          "base_uri": "https://localhost:8080/"
        },
        "outputId": "f96bcd06-10d7-4be7-bbc4-41d85642cd06"
      },
      "execution_count": null,
      "outputs": [
        {
          "output_type": "stream",
          "name": "stdout",
          "text": [
            "6\n",
            "9\n",
            "6\n",
            "7\n",
            "8\n",
            "9\n"
          ]
        }
      ]
    },
    {
      "cell_type": "markdown",
      "source": [
        "1.2. WHILE LOOP"
      ],
      "metadata": {
        "id": "_lj0HlqfYL3K"
      }
    },
    {
      "cell_type": "code",
      "source": [
        "counter = 1\n",
        "while counter <= 5:\n",
        "    print(counter)\n",
        "    counter += 1    # Increment"
      ],
      "metadata": {
        "id": "hXGPhAfcYP7o",
        "colab": {
          "base_uri": "https://localhost:8080/"
        },
        "outputId": "dd97cce6-70fc-4a82-9609-1c5c3bbe886d"
      },
      "execution_count": null,
      "outputs": [
        {
          "output_type": "stream",
          "name": "stdout",
          "text": [
            "1\n",
            "2\n",
            "3\n",
            "4\n",
            "5\n"
          ]
        }
      ]
    },
    {
      "cell_type": "code",
      "source": [
        "a = int( input())\n",
        "b = int( input())\n",
        "\n",
        "i = a\n",
        "while (i <= b):\n",
        "  print(i)\n",
        "  i += 1"
      ],
      "metadata": {
        "id": "pfYZ_jJ8KCVT",
        "colab": {
          "base_uri": "https://localhost:8080/"
        },
        "outputId": "5854fcb8-4198-4aa5-c5c5-b92f3d49ff96"
      },
      "execution_count": null,
      "outputs": [
        {
          "output_type": "stream",
          "name": "stdout",
          "text": [
            "3\n",
            "7\n",
            "3\n",
            "4\n",
            "5\n",
            "6\n",
            "7\n"
          ]
        }
      ]
    },
    {
      "cell_type": "markdown",
      "source": [
        "  1.3. FOR NESTED LOOP"
      ],
      "metadata": {
        "id": "fnZks8jMbZol"
      }
    },
    {
      "cell_type": "code",
      "source": [
        "n = int( input())\n",
        "\n",
        "for i in range(n):\n",
        "  for j in range(n):\n",
        "    print(\"*\", end=\"\") # Dieksekusi sebanyak n * n kali print()\n",
        "\n",
        "# Dieksekusi sebanyak n kali\n",
        "# Perhatikan indentasi di dalam perulangan.\n"
      ],
      "metadata": {
        "id": "wjgMtWGxKnrB",
        "colab": {
          "base_uri": "https://localhost:8080/"
        },
        "outputId": "0ac57604-fda4-4c78-91b7-7a06ba7dc96d"
      },
      "execution_count": null,
      "outputs": [
        {
          "output_type": "stream",
          "name": "stdout",
          "text": [
            "2\n",
            "****"
          ]
        }
      ]
    },
    {
      "cell_type": "markdown",
      "source": [
        "#LATIHAN SOAL DI KELAS"
      ],
      "metadata": {
        "id": "ZAv4cr7iLN-5"
      }
    },
    {
      "cell_type": "markdown",
      "source": [
        "1. *Kelipatan 5 Terkecil*  \n",
        "   Buatlah program yang menerima bilangan N dan menuliskan bilangan kelipatan 5 terkecil yang lebih besar dari N.\n",
        "   \n",
        "   *Contoh:*\n",
        "   - Input: 8\n",
        "   - Output: 10\n",
        "   \n",
        "   - Input: 27\n",
        "   - Output: 30"
      ],
      "metadata": {
        "id": "wLJ8LTAhi-cl"
      }
    },
    {
      "cell_type": "code",
      "source": [
        "# Input bilangan N\n",
        "N = int(input(\"Masukkan N: \"))\n",
        "\n",
        "# Mencari kelipatan 5 terkecil yang lebih besar dari N\n",
        "i = N + 1\n",
        "while i % 5 != 0:  # Selama i belum menjadi kelipatan 5\n",
        "    i += 1  # Tambah i\n",
        "\n",
        "# Output hasil\n",
        "print(\"Output:\", i)\n"
      ],
      "metadata": {
        "id": "uneD5rHoi2Q0",
        "colab": {
          "base_uri": "https://localhost:8080/"
        },
        "outputId": "fb81b16f-a83b-410c-e383-6b0e7d0f45c4"
      },
      "execution_count": null,
      "outputs": [
        {
          "output_type": "stream",
          "name": "stdout",
          "text": [
            "Masukkan N: 8\n",
            "Output: 10\n"
          ]
        }
      ]
    },
    {
      "cell_type": "markdown",
      "source": [
        "2. *Kelipatan 7 Terkecil*  \n",
        "   Buat program yang menerima bilangan N dan mencetak bilangan kelipatan 7 terkecil yang lebih besar dari N.\n",
        "\n",
        "   *Contoh:*\n",
        "   - Input: 9\n",
        "   - Output: 14\n",
        "   \n",
        "   - Input: 20\n",
        "   - Output: 21"
      ],
      "metadata": {
        "id": "5vORxy6PjLVD"
      }
    },
    {
      "cell_type": "code",
      "source": [],
      "metadata": {
        "id": "fG-zWHqPjL4A"
      },
      "execution_count": null,
      "outputs": []
    },
    {
      "cell_type": "markdown",
      "source": [
        "3. *Kelipatan 15 Terkecil*  \n",
        "   Buat program yang menerima bilangan N dan mencetak kelipatan 15 terkecil yang lebih besar dari N.\n",
        "   \n",
        "   *Contoh:*\n",
        "   - Input: 13\n",
        "   - Output: 15\n",
        "   \n",
        "   - Input: 30\n",
        "   - Output: 45"
      ],
      "metadata": {
        "id": "38qww07ajUON"
      }
    },
    {
      "cell_type": "code",
      "source": [],
      "metadata": {
        "id": "iktTTlWzjVb3"
      },
      "execution_count": null,
      "outputs": []
    },
    {
      "cell_type": "markdown",
      "source": [
        "4. *Pola Segitiga Bintang*  \n",
        "   Buat program yang menerima bilangan N dan mencetak pola segitiga bintang dengan dasar N.\n",
        "   \n",
        "   *Contoh:*\n",
        "   - Input: 4\n",
        "   - Output:\n",
        "     \n",
        "     '*\n",
        "     \n",
        "     '**\n",
        "     \n",
        "     '***\n",
        "     \n",
        "     '****"
      ],
      "metadata": {
        "id": "YmlK2kqokJUh"
      }
    },
    {
      "cell_type": "code",
      "source": [
        "# Input dari pengguna\n",
        "N = int(input(\"Masukkan nilai N: \"))\n",
        "\n",
        "# Cetak pola segitiga bintang\n",
        "for i in range(1, N+1):\n",
        "    print('*' * i)"
      ],
      "metadata": {
        "id": "Xlqcx0dYkQwU",
        "colab": {
          "base_uri": "https://localhost:8080/"
        },
        "outputId": "28168f13-de47-4150-89df-e6b8fc67f85c"
      },
      "execution_count": null,
      "outputs": [
        {
          "output_type": "stream",
          "name": "stdout",
          "text": [
            "Masukkan nilai N: 4\n",
            "*\n",
            "**\n",
            "***\n",
            "****\n"
          ]
        }
      ]
    },
    {
      "cell_type": "markdown",
      "source": [
        "5. *Segitiga Angka Terbalik*  \n",
        "   Buat program yang menerima bilangan N dan mencetak segitiga angka terbalik dengan dasar N.\n",
        "\n",
        "   *Contoh:*\n",
        "   - Input: 4\n",
        "   - Output:\n",
        "     \n",
        "     1234\n",
        "\n",
        "     123\n",
        "\n",
        "     12\n",
        "     \n",
        "     1"
      ],
      "metadata": {
        "id": "E53DclyEkRMd"
      }
    },
    {
      "cell_type": "code",
      "source": [
        "N = int(input(\"Masukkan bilangan N: \"))\n",
        "for i in range(N, 0, -1):\n",
        "    for j in range(1, i+1):\n",
        "        print(j, end=\"\")\n",
        "    print()"
      ],
      "metadata": {
        "id": "ZrQYtYC8kbB_",
        "colab": {
          "base_uri": "https://localhost:8080/"
        },
        "outputId": "7e4a322e-466d-4cbd-e09f-07f6e2ea4346"
      },
      "execution_count": null,
      "outputs": [
        {
          "output_type": "stream",
          "name": "stdout",
          "text": [
            "Masukkan bilangan N: 4\n",
            "1234\n",
            "123\n",
            "12\n",
            "1\n"
          ]
        }
      ]
    },
    {
      "cell_type": "markdown",
      "source": [
        "6. *Pola Piramida Angka*  \n",
        "   Buat program yang menerima bilangan N dan mencetak pola piramida angka.\n",
        "\n",
        "   *Contoh:*\n",
        "   - Input: 3\n",
        "   - Output:\n",
        "     \n",
        "       '1\n",
        "\n",
        "      '123\n",
        "     \n",
        "     '12345"
      ],
      "metadata": {
        "id": "iNAEzr7Bkj16"
      }
    },
    {
      "cell_type": "code",
      "source": [
        "N = int(input(\"Masukkan nilai N: \"))\n",
        "\n",
        "# Cetak pola piramida angka\n",
        "for i in range(1, N+1):\n",
        "    print(' ' * (N-i) + ''.join(str(x) for x in range(1, 2*i)))"
      ],
      "metadata": {
        "id": "3JnwFwgqkllI",
        "colab": {
          "base_uri": "https://localhost:8080/"
        },
        "outputId": "169634b7-aa74-459b-e64f-2db9480dc1cd"
      },
      "execution_count": null,
      "outputs": [
        {
          "output_type": "stream",
          "name": "stdout",
          "text": [
            "Masukkan nilai N: 3\n",
            "  1\n",
            " 123\n",
            "12345\n"
          ]
        }
      ]
    },
    {
      "cell_type": "markdown",
      "source": [
        "7. *Kelipatan 2 dan 3*  \n",
        "\tBuat program yang menerima bilangan N.\n",
        "\tJika bilangan merupakan kelipatan dari 2, cetak \"Dua\". Jika kelipatan dari 3, cetak \"Tiga\".\n",
        "\tJika kelipatan dari 2 dan 3, cetak \"DuaTiga\". Jika bukan kelipatan dari keduanya, cetak angkanya saja.\n",
        "\n",
        "   *Contoh:*\n",
        "   - Input: 10\n",
        "   - Output:\n",
        "     1 Dua Tiga Dua 5 DuaTiga 7 Dua Tiga Dua"
      ],
      "metadata": {
        "id": "_ZeCnlBlkmKU"
      }
    },
    {
      "cell_type": "code",
      "source": [
        "N = int(input(\"Masukkan nilai N: \"))\n",
        "\n",
        "# Loop dari 1 hingga N\n",
        "for x in range(1, N + 1):\n",
        "    if x % 2 == 0 and x % 3 == 0:\n",
        "        print(\"DuaTiga\", end=\" \")\n",
        "    elif x % 2 == 0:\n",
        "        print(\"Dua\", end=\" \")\n",
        "    elif x % 3 == 0:\n",
        "        print(\"Tiga\", end=\" \")\n",
        "    else:\n",
        "        print(x, end=\" \")\n",
        "print()"
      ],
      "metadata": {
        "id": "T2DJuVZXk-kW",
        "colab": {
          "base_uri": "https://localhost:8080/"
        },
        "outputId": "c2b7a3fb-f838-4edc-ceb6-5d3e09ff0e63"
      },
      "execution_count": null,
      "outputs": [
        {
          "output_type": "stream",
          "name": "stdout",
          "text": [
            "Masukkan nilai N: 10\n",
            "1 Dua Tiga Dua 5 DuaTiga 7 Dua Tiga Dua \n"
          ]
        }
      ]
    },
    {
      "cell_type": "markdown",
      "source": [
        "###1.3.1. Kelipatan 10 Terkecil"
      ],
      "metadata": {
        "id": "rWEkVaxWLZgY"
      }
    },
    {
      "cell_type": "code",
      "source": [
        "N = int(input(\"Masukkan bilangan N: \"))\n",
        "\n",
        "x = N + 1\n",
        "while x % 10 != 0:\n",
        "    x += 1\n",
        "\n",
        "print(x)"
      ],
      "metadata": {
        "id": "6wtetMlkLWFY"
      },
      "execution_count": null,
      "outputs": []
    },
    {
      "cell_type": "markdown",
      "source": [
        "- Interpretasi Coding:\n",
        "- Interpretasi Hasil:"
      ],
      "metadata": {
        "id": "if7EDsEpLipp"
      }
    },
    {
      "cell_type": "markdown",
      "source": [
        "###1.3.2. Segitiga Angka"
      ],
      "metadata": {
        "id": "uSb3HtUrLpiU"
      }
    },
    {
      "cell_type": "code",
      "source": [
        "N = int(input(\"Masukkan bilangan N: \"))\n",
        "\n",
        "for i in range(1, N + 1):  # Loop untuk baris\n",
        "    for j in range(1, i + 1):  # Loop untuk mencetak angka dalam baris\n",
        "        print(j, end=\"\")\n",
        "    print()  # Pindah ke baris berikutnya setelah setiap baris selesai"
      ],
      "metadata": {
        "id": "bIbMpp4ZL-i7"
      },
      "execution_count": null,
      "outputs": []
    },
    {
      "cell_type": "markdown",
      "source": [
        "- Interpretasi Coding:\n",
        "- Interpretasi Hasil:"
      ],
      "metadata": {
        "id": "H2jDvzvyL6Sf"
      }
    },
    {
      "cell_type": "markdown",
      "source": [
        "#POST TEST"
      ],
      "metadata": {
        "id": "ZRsyaVD5LQS-"
      }
    },
    {
      "cell_type": "markdown",
      "source": [
        "1. *Kelipatan 2 dan 3*  \n",
        "\tBuat program yang menerima bilangan N.\n",
        "\tJika bilangan merupakan kelipatan dari 2, cetak \"Dua\". Jika kelipatan dari 3, cetak \"Tiga\".\n",
        "\tJika kelipatan dari 2 dan 3, cetak \"DuaTiga\". Jika bukan kelipatan dari keduanya, cetak angkanya saja.\n",
        "\n",
        "   *Contoh:*\n",
        "   - Input: 10\n",
        "   - Output:\n",
        "     1 Dua Tiga Dua 5 DuaTiga 7 Dua Tiga Dua"
      ],
      "metadata": {
        "id": "3EF-f7T9o4wP"
      }
    },
    {
      "cell_type": "code",
      "source": [
        "N = int(input(\"Masukkan nilai N: \"))\n",
        "\n",
        "# Loop dari 1 hingga N\n",
        "for x in range(1, N + 1):\n",
        "    if x % 2 == 0 and x % 3 == 0:\n",
        "        print(\"DuaTiga\", end=\" \")\n",
        "    elif x % 2 == 0:\n",
        "        print(\"Dua\", end=\" \")\n",
        "    elif x % 3 == 0:\n",
        "        print(\"Tiga\", end=\" \")\n",
        "    else:\n",
        "        print(x, end=\" \") # Tambahkan newline di akhir\n",
        "print()"
      ],
      "metadata": {
        "colab": {
          "base_uri": "https://localhost:8080/"
        },
        "collapsed": true,
        "id": "LTfJtxeJo3mu",
        "outputId": "bc056e07-b122-4846-8335-17758f6bee5a"
      },
      "execution_count": null,
      "outputs": [
        {
          "output_type": "stream",
          "name": "stdout",
          "text": [
            "Masukkan nilai N: 10\n",
            "1 Dua Tiga Dua 5 DuaTiga 7 Dua Tiga Dua \n"
          ]
        }
      ]
    }
  ]
}