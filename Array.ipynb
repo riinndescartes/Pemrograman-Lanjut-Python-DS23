{
  "nbformat": 4,
  "nbformat_minor": 0,
  "metadata": {
    "colab": {
      "provenance": [],
      "authorship_tag": "ABX9TyNBePHvKyTftE8PMtEJt2Kn",
      "include_colab_link": true
    },
    "kernelspec": {
      "name": "python3",
      "display_name": "Python 3"
    },
    "language_info": {
      "name": "python"
    }
  },
  "cells": [
    {
      "cell_type": "markdown",
      "metadata": {
        "id": "view-in-github",
        "colab_type": "text"
      },
      "source": [
        "<a href=\"https://colab.research.google.com/github/riinndescartes/Pemrograman-Lanjut-Python-DS23/blob/main/Array.ipynb\" target=\"_parent\"><img src=\"https://colab.research.google.com/assets/colab-badge.svg\" alt=\"Open In Colab\"/></a>"
      ]
    },
    {
      "cell_type": "markdown",
      "source": [
        "#**Pengenalan Array**\n",
        "\n",
        "Python tidak memiliki dukungan bawaan untuk Array, tetapi **Python List** dapat digunakan sebagai gantinya."
      ],
      "metadata": {
        "id": "E_rdQdFdyo5I"
      }
    },
    {
      "cell_type": "markdown",
      "source": [
        "##**1. Susunan (List)**\n",
        "\n",
        "Halaman ini menunjukkan cara menggunakan LISTS sebagai ARRAY, namun, untuk bekerja dengan array di Python kita harus mengimpor pustaka, seperti library `NumPy`."
      ],
      "metadata": {
        "id": "dC0rz8NFzPMt"
      }
    },
    {
      "cell_type": "markdown",
      "source": [
        "Array digunakan untuk menyimpan beberapa nilai dalam satu variabel tunggal:"
      ],
      "metadata": {
        "id": "mUy8YZtuzjVF"
      }
    },
    {
      "cell_type": "code",
      "execution_count": null,
      "metadata": {
        "colab": {
          "base_uri": "https://localhost:8080/"
        },
        "id": "BW5KfPbyyKiW",
        "outputId": "96c0173b-15a7-4b36-ad58-29d1955ac429"
      },
      "outputs": [
        {
          "output_type": "stream",
          "name": "stdout",
          "text": [
            "['Ford', 'Volvo', 'BMW']\n"
          ]
        }
      ],
      "source": [
        "cars = [\"Ford\", \"Volvo\", \"BMW\"]\n",
        "\n",
        "print(cars)"
      ]
    },
    {
      "cell_type": "markdown",
      "source": [
        "Jadi, apa itu Array?\n",
        "\n",
        "\n",
        "Array adalah variabel khusus, yang dapat menampung lebih dari satu nilai pada satu waktu.\n",
        "\n",
        "Jika Anda memiliki daftar item (daftar nama mobil, misalnya), menyimpan mobil dalam variabel tunggal dapat terlihat seperti ini:\n",
        "\n",
        "car1 = \"Ford\"\n",
        "\n",
        "car2 = \"Volvo\"\n",
        "\n",
        "car3 = \"BMW\"\n",
        "\n",
        "\n",
        "Namun, bagaimana jika Anda ingin menelusuri mobil-mobil tersebut dan menemukan satu mobil tertentu? Dan bagaimana jika Anda tidak memiliki 3 mobil, tetapi 300?\n",
        "\n",
        "Solusinya adalah array!\n",
        "\n",
        "Suatu array dapat menampung banyak nilai di bawah satu nama, dan Anda dapat mengakses nilai-nilai tersebut dengan merujuk ke nomor indeks."
      ],
      "metadata": {
        "id": "TRAP183xz3Y2"
      }
    },
    {
      "cell_type": "markdown",
      "source": [
        "##**2. Mengakses Elemen Array**\n",
        "\n",
        "\n",
        "Anda merujuk pada elemen array dengan merujuk pada nomor indeks."
      ],
      "metadata": {
        "id": "RdfESHDc0NwJ"
      }
    },
    {
      "cell_type": "code",
      "source": [
        "'''Contoh 1:\n",
        "Dapatkan nilai item array pertama:'''\n",
        "\n",
        "cars = [\"Ford\", \"Volvo\", \"BMW\"]\n",
        "x = cars[0], [1]\n",
        "print(x)"
      ],
      "metadata": {
        "colab": {
          "base_uri": "https://localhost:8080/"
        },
        "id": "jDyvC_6-0NHT",
        "outputId": "c5138099-bfa0-4c24-baf4-6a5046e20c62"
      },
      "execution_count": 1,
      "outputs": [
        {
          "output_type": "stream",
          "name": "stdout",
          "text": [
            "('Ford', [1])\n"
          ]
        }
      ]
    },
    {
      "cell_type": "code",
      "source": [
        "'''Contoh 2:\n",
        "Ubah nilai item array pertama'''\n",
        "\n",
        "cars = [\"Ford\", \"Volvo\", \"BMW\"]\n",
        "cars[0] = \"Toyota\"\n",
        "print(cars)"
      ],
      "metadata": {
        "colab": {
          "base_uri": "https://localhost:8080/"
        },
        "id": "kHV6Gc9A01Sf",
        "outputId": "672c47d8-fe45-4bd7-de56-d91ce3def855"
      },
      "execution_count": null,
      "outputs": [
        {
          "output_type": "stream",
          "name": "stdout",
          "text": [
            "['Toyota', 'Volvo', 'BMW']\n"
          ]
        }
      ]
    },
    {
      "cell_type": "markdown",
      "source": [
        "##**3. Panjang Sebuah Array**\n",
        "\n",
        "\n",
        "Gunakan `len()`, metode ini untuk mengembalikan panjang suatu array (jumlah elemen dalam suatu array)."
      ],
      "metadata": {
        "id": "CyJ4n--61Vj0"
      }
    },
    {
      "cell_type": "code",
      "source": [
        "'''Contoh 1:\n",
        "Mengembalikan jumlah elemen\n",
        "dalam cars array'''\n",
        "\n",
        "cars = [\"Ford\", \"Volvo\", \"BMW\"]\n",
        "x = len(cars)\n",
        "print(x)"
      ],
      "metadata": {
        "colab": {
          "base_uri": "https://localhost:8080/"
        },
        "id": "wjtu6TXt1eLV",
        "outputId": "00a1340a-14c0-4b5f-bfd1-3b47a4ebf799"
      },
      "execution_count": null,
      "outputs": [
        {
          "output_type": "stream",
          "name": "stdout",
          "text": [
            "3\n"
          ]
        }
      ]
    },
    {
      "cell_type": "markdown",
      "source": [
        "**Catatan:** Panjang suatu array selalu satu lebih panjang dari indeks array tertinggi."
      ],
      "metadata": {
        "id": "aU1WMnsk1yEh"
      }
    },
    {
      "cell_type": "markdown",
      "source": [
        "##**4. Elemen Array Perulangan**\n",
        "\n",
        "Anda dapat menggunakan `for i in loop` untuk mengulang semua elemen array."
      ],
      "metadata": {
        "id": "sXU6guWM2N7Z"
      }
    },
    {
      "cell_type": "code",
      "source": [
        "'''Contoh 1\n",
        "Cetak setiap item dalam carsarray'''\n",
        "\n",
        "cars = [\"Ford\", \"Volvo\", \"BMW\"]\n",
        "for x in cars:\n",
        "  print(x)"
      ],
      "metadata": {
        "colab": {
          "base_uri": "https://localhost:8080/"
        },
        "id": "7zjKs-EG2c5v",
        "outputId": "217fee8e-e72b-471f-aff2-8aac820aa3fa"
      },
      "execution_count": null,
      "outputs": [
        {
          "output_type": "stream",
          "name": "stdout",
          "text": [
            "Ford\n",
            "Volvo\n",
            "BMW\n"
          ]
        }
      ]
    },
    {
      "cell_type": "markdown",
      "source": [
        "##**5. Menambahkan Elemen Array**\n",
        "\n",
        "\n",
        "Anda dapat menggunakan `append()`, metode ini untuk menambahkan elemen ke dalam array."
      ],
      "metadata": {
        "id": "fdt3bgWK3LMl"
      }
    },
    {
      "cell_type": "code",
      "source": [
        "'''Contoh 1\n",
        "Tambahkan satu elemen lagi ke carsarray'''\n",
        "\n",
        "cars = [\"Ford\", \"Volvo\", \"BMW\"]\n",
        "cars.append(\"Honda\")\n",
        "print(cars)"
      ],
      "metadata": {
        "colab": {
          "base_uri": "https://localhost:8080/"
        },
        "id": "QWL9zOMy3VQT",
        "outputId": "cee54423-0207-423a-db0a-73453edeb300"
      },
      "execution_count": null,
      "outputs": [
        {
          "output_type": "stream",
          "name": "stdout",
          "text": [
            "['Ford', 'Volvo', 'BMW', 'Honda']\n"
          ]
        }
      ]
    },
    {
      "cell_type": "markdown",
      "source": [
        "##**6. Menghapus Elemen Array**\n",
        "\n",
        "\n",
        "Anda dapat menggunakan `pop()`, metode ini untuk menghapus elemen dari array."
      ],
      "metadata": {
        "id": "cvTWeGL14CpZ"
      }
    },
    {
      "cell_type": "code",
      "source": [
        "'''Contoh 1\n",
        "Hapus elemen kedua dari carsarray'''\n",
        "\n",
        "cars = [\"Ford\", \"Volvo\", \"BMW\"]\n",
        "\n",
        "cars.pop(1)\n",
        "\n",
        "print(cars)"
      ],
      "metadata": {
        "colab": {
          "base_uri": "https://localhost:8080/"
        },
        "id": "-FAVjHfD4QVH",
        "outputId": "917afc81-8679-4ee6-ae0f-29c4c3471849"
      },
      "execution_count": null,
      "outputs": [
        {
          "output_type": "stream",
          "name": "stdout",
          "text": [
            "['Ford', 'BMW']\n"
          ]
        }
      ]
    },
    {
      "cell_type": "markdown",
      "source": [
        "Anda juga dapat menggunakan `remove()` metode ini untuk menghapus elemen dari array."
      ],
      "metadata": {
        "id": "8Q8hevAJ4mXd"
      }
    },
    {
      "cell_type": "code",
      "source": [
        "'''Contoh 2\n",
        "Hapus elemen yang memiliki nilai \"Volvo\":'''\n",
        "\n",
        "cars = [\"Ford\", \"Volvo\", \"BMW\"]\n",
        "\n",
        "cars.remove(\"Volvo\")\n",
        "\n",
        "print(cars)"
      ],
      "metadata": {
        "colab": {
          "base_uri": "https://localhost:8080/"
        },
        "id": "Fladwz-c4srB",
        "outputId": "274d83c5-e2fd-47de-d224-14bc029dc37b"
      },
      "execution_count": null,
      "outputs": [
        {
          "output_type": "stream",
          "name": "stdout",
          "text": [
            "['Ford', 'BMW']\n"
          ]
        }
      ]
    },
    {
      "cell_type": "markdown",
      "source": [
        "**Catatan**: Metode daftar `remove()` hanya menghapus kemunculan pertama dari nilai yang ditentukan."
      ],
      "metadata": {
        "id": "rc9czPJr5Bro"
      }
    },
    {
      "cell_type": "markdown",
      "source": [
        "🎉**Array Method & Description**\n",
        "\n",
        "- append(): Adds an element at the end of the list.\n",
        "\n",
        "- clear(): Removes all the elements from the list.\n",
        "\n",
        "- copy(): Returns a copy of the list.\n",
        "\n",
        "- count(): Returns the number of elements with the specified value.\n",
        "\n",
        "- extend(): Add the elements of a list (or any iterable), to the end of the current list.\n",
        "\n",
        "- index(): Returns the index of the first element with the specified value.\n",
        "\n",
        "- insert(): Adds an element at the specified position.\n",
        "\n",
        "- pop(): Removes the element at the specified position.\n",
        "\n",
        "- remove(): Removes the first item with the specified value.\n",
        "\n",
        "- reverse(): Reverses the order of the list.\n",
        "\n",
        "- sort(): Sorts the list."
      ],
      "metadata": {
        "id": "x2KAPWyD5TSs"
      }
    },
    {
      "cell_type": "markdown",
      "source": [
        "##**8. Perbedaan List dan Array**"
      ],
      "metadata": {
        "id": "Zhz_aRrTclzu"
      }
    },
    {
      "cell_type": "markdown",
      "source": [
        "List"
      ],
      "metadata": {
        "id": "MG52eNn6ctDo"
      }
    },
    {
      "cell_type": "code",
      "source": [
        "data_list = [1,2,3, \"empat\", 5.0]\n",
        "print(data_list)"
      ],
      "metadata": {
        "colab": {
          "base_uri": "https://localhost:8080/"
        },
        "id": "cv_qRXXUcsLI",
        "outputId": "645ecbfa-c621-4ae4-e931-db32381f915a"
      },
      "execution_count": 12,
      "outputs": [
        {
          "output_type": "stream",
          "name": "stdout",
          "text": [
            "[1, 2, 3, 'empat', 5.0]\n"
          ]
        }
      ]
    },
    {
      "cell_type": "markdown",
      "source": [
        "Array"
      ],
      "metadata": {
        "id": "odXFwkyXc9FX"
      }
    },
    {
      "cell_type": "code",
      "source": [
        "import numpy as np\n",
        "\n",
        "data_array = np.array([1,2,3,4,5])\n",
        "print(data_array)"
      ],
      "metadata": {
        "colab": {
          "base_uri": "https://localhost:8080/"
        },
        "id": "t3OTcVvJc-wr",
        "outputId": "4707a469-4bc1-425b-af16-aed437b9c2ca"
      },
      "execution_count": 13,
      "outputs": [
        {
          "output_type": "stream",
          "name": "stdout",
          "text": [
            "[1 2 3 4 5]\n"
          ]
        }
      ]
    },
    {
      "cell_type": "code",
      "source": [
        "import numpy as np\n",
        "\n",
        "data = np.loadtxt(\"/content/sample_data/california_housing_train.csv\", delimiter = ',')\n",
        "print(data)"
      ],
      "metadata": {
        "colab": {
          "base_uri": "https://localhost:8080/",
          "height": 339
        },
        "id": "nejaU36ieRex",
        "outputId": "4f41f6fe-504f-49c3-b981-45c7130a3c09"
      },
      "execution_count": 14,
      "outputs": [
        {
          "output_type": "error",
          "ename": "FileNotFoundError",
          "evalue": "/content/sample_data/california_housing_train.csvt not found.",
          "traceback": [
            "\u001b[0;31m---------------------------------------------------------------------------\u001b[0m",
            "\u001b[0;31mFileNotFoundError\u001b[0m                         Traceback (most recent call last)",
            "\u001b[0;32m<ipython-input-14-40536966408b>\u001b[0m in \u001b[0;36m<cell line: 3>\u001b[0;34m()\u001b[0m\n\u001b[1;32m      1\u001b[0m \u001b[0;32mimport\u001b[0m \u001b[0mnumpy\u001b[0m \u001b[0;32mas\u001b[0m \u001b[0mnp\u001b[0m\u001b[0;34m\u001b[0m\u001b[0;34m\u001b[0m\u001b[0m\n\u001b[1;32m      2\u001b[0m \u001b[0;34m\u001b[0m\u001b[0m\n\u001b[0;32m----> 3\u001b[0;31m \u001b[0mdata\u001b[0m \u001b[0;34m=\u001b[0m \u001b[0mnp\u001b[0m\u001b[0;34m.\u001b[0m\u001b[0mloadtxt\u001b[0m\u001b[0;34m(\u001b[0m\u001b[0;34m\"/content/sample_data/california_housing_train.csvt\"\u001b[0m\u001b[0;34m,\u001b[0m \u001b[0mdelimiter\u001b[0m \u001b[0;34m=\u001b[0m \u001b[0;34m','\u001b[0m\u001b[0;34m)\u001b[0m\u001b[0;34m\u001b[0m\u001b[0;34m\u001b[0m\u001b[0m\n\u001b[0m\u001b[1;32m      4\u001b[0m \u001b[0mprint\u001b[0m\u001b[0;34m(\u001b[0m\u001b[0mdata\u001b[0m\u001b[0;34m)\u001b[0m\u001b[0;34m\u001b[0m\u001b[0;34m\u001b[0m\u001b[0m\n",
            "\u001b[0;32m/usr/local/lib/python3.10/dist-packages/numpy/lib/npyio.py\u001b[0m in \u001b[0;36mloadtxt\u001b[0;34m(fname, dtype, comments, delimiter, converters, skiprows, usecols, unpack, ndmin, encoding, max_rows, quotechar, like)\u001b[0m\n\u001b[1;32m   1371\u001b[0m         \u001b[0mdelimiter\u001b[0m \u001b[0;34m=\u001b[0m \u001b[0mdelimiter\u001b[0m\u001b[0;34m.\u001b[0m\u001b[0mdecode\u001b[0m\u001b[0;34m(\u001b[0m\u001b[0;34m'latin1'\u001b[0m\u001b[0;34m)\u001b[0m\u001b[0;34m\u001b[0m\u001b[0;34m\u001b[0m\u001b[0m\n\u001b[1;32m   1372\u001b[0m \u001b[0;34m\u001b[0m\u001b[0m\n\u001b[0;32m-> 1373\u001b[0;31m     arr = _read(fname, dtype=dtype, comment=comment, delimiter=delimiter,\n\u001b[0m\u001b[1;32m   1374\u001b[0m                 \u001b[0mconverters\u001b[0m\u001b[0;34m=\u001b[0m\u001b[0mconverters\u001b[0m\u001b[0;34m,\u001b[0m \u001b[0mskiplines\u001b[0m\u001b[0;34m=\u001b[0m\u001b[0mskiprows\u001b[0m\u001b[0;34m,\u001b[0m \u001b[0musecols\u001b[0m\u001b[0;34m=\u001b[0m\u001b[0musecols\u001b[0m\u001b[0;34m,\u001b[0m\u001b[0;34m\u001b[0m\u001b[0;34m\u001b[0m\u001b[0m\n\u001b[1;32m   1375\u001b[0m                 \u001b[0munpack\u001b[0m\u001b[0;34m=\u001b[0m\u001b[0munpack\u001b[0m\u001b[0;34m,\u001b[0m \u001b[0mndmin\u001b[0m\u001b[0;34m=\u001b[0m\u001b[0mndmin\u001b[0m\u001b[0;34m,\u001b[0m \u001b[0mencoding\u001b[0m\u001b[0;34m=\u001b[0m\u001b[0mencoding\u001b[0m\u001b[0;34m,\u001b[0m\u001b[0;34m\u001b[0m\u001b[0;34m\u001b[0m\u001b[0m\n",
            "\u001b[0;32m/usr/local/lib/python3.10/dist-packages/numpy/lib/npyio.py\u001b[0m in \u001b[0;36m_read\u001b[0;34m(fname, delimiter, comment, quote, imaginary_unit, usecols, skiplines, max_rows, converters, ndmin, unpack, dtype, encoding)\u001b[0m\n\u001b[1;32m    990\u001b[0m             \u001b[0mfname\u001b[0m \u001b[0;34m=\u001b[0m \u001b[0mos\u001b[0m\u001b[0;34m.\u001b[0m\u001b[0mfspath\u001b[0m\u001b[0;34m(\u001b[0m\u001b[0mfname\u001b[0m\u001b[0;34m)\u001b[0m\u001b[0;34m\u001b[0m\u001b[0;34m\u001b[0m\u001b[0m\n\u001b[1;32m    991\u001b[0m         \u001b[0;32mif\u001b[0m \u001b[0misinstance\u001b[0m\u001b[0;34m(\u001b[0m\u001b[0mfname\u001b[0m\u001b[0;34m,\u001b[0m \u001b[0mstr\u001b[0m\u001b[0;34m)\u001b[0m\u001b[0;34m:\u001b[0m\u001b[0;34m\u001b[0m\u001b[0;34m\u001b[0m\u001b[0m\n\u001b[0;32m--> 992\u001b[0;31m             \u001b[0mfh\u001b[0m \u001b[0;34m=\u001b[0m \u001b[0mnp\u001b[0m\u001b[0;34m.\u001b[0m\u001b[0mlib\u001b[0m\u001b[0;34m.\u001b[0m\u001b[0m_datasource\u001b[0m\u001b[0;34m.\u001b[0m\u001b[0mopen\u001b[0m\u001b[0;34m(\u001b[0m\u001b[0mfname\u001b[0m\u001b[0;34m,\u001b[0m \u001b[0;34m'rt'\u001b[0m\u001b[0;34m,\u001b[0m \u001b[0mencoding\u001b[0m\u001b[0;34m=\u001b[0m\u001b[0mencoding\u001b[0m\u001b[0;34m)\u001b[0m\u001b[0;34m\u001b[0m\u001b[0;34m\u001b[0m\u001b[0m\n\u001b[0m\u001b[1;32m    993\u001b[0m             \u001b[0;32mif\u001b[0m \u001b[0mencoding\u001b[0m \u001b[0;32mis\u001b[0m \u001b[0;32mNone\u001b[0m\u001b[0;34m:\u001b[0m\u001b[0;34m\u001b[0m\u001b[0;34m\u001b[0m\u001b[0m\n\u001b[1;32m    994\u001b[0m                 \u001b[0mencoding\u001b[0m \u001b[0;34m=\u001b[0m \u001b[0mgetattr\u001b[0m\u001b[0;34m(\u001b[0m\u001b[0mfh\u001b[0m\u001b[0;34m,\u001b[0m \u001b[0;34m'encoding'\u001b[0m\u001b[0;34m,\u001b[0m \u001b[0;34m'latin1'\u001b[0m\u001b[0;34m)\u001b[0m\u001b[0;34m\u001b[0m\u001b[0;34m\u001b[0m\u001b[0m\n",
            "\u001b[0;32m/usr/local/lib/python3.10/dist-packages/numpy/lib/_datasource.py\u001b[0m in \u001b[0;36mopen\u001b[0;34m(path, mode, destpath, encoding, newline)\u001b[0m\n\u001b[1;32m    191\u001b[0m \u001b[0;34m\u001b[0m\u001b[0m\n\u001b[1;32m    192\u001b[0m     \u001b[0mds\u001b[0m \u001b[0;34m=\u001b[0m \u001b[0mDataSource\u001b[0m\u001b[0;34m(\u001b[0m\u001b[0mdestpath\u001b[0m\u001b[0;34m)\u001b[0m\u001b[0;34m\u001b[0m\u001b[0;34m\u001b[0m\u001b[0m\n\u001b[0;32m--> 193\u001b[0;31m     \u001b[0;32mreturn\u001b[0m \u001b[0mds\u001b[0m\u001b[0;34m.\u001b[0m\u001b[0mopen\u001b[0m\u001b[0;34m(\u001b[0m\u001b[0mpath\u001b[0m\u001b[0;34m,\u001b[0m \u001b[0mmode\u001b[0m\u001b[0;34m,\u001b[0m \u001b[0mencoding\u001b[0m\u001b[0;34m=\u001b[0m\u001b[0mencoding\u001b[0m\u001b[0;34m,\u001b[0m \u001b[0mnewline\u001b[0m\u001b[0;34m=\u001b[0m\u001b[0mnewline\u001b[0m\u001b[0;34m)\u001b[0m\u001b[0;34m\u001b[0m\u001b[0;34m\u001b[0m\u001b[0m\n\u001b[0m\u001b[1;32m    194\u001b[0m \u001b[0;34m\u001b[0m\u001b[0m\n\u001b[1;32m    195\u001b[0m \u001b[0;34m\u001b[0m\u001b[0m\n",
            "\u001b[0;32m/usr/local/lib/python3.10/dist-packages/numpy/lib/_datasource.py\u001b[0m in \u001b[0;36mopen\u001b[0;34m(self, path, mode, encoding, newline)\u001b[0m\n\u001b[1;32m    531\u001b[0m                                       encoding=encoding, newline=newline)\n\u001b[1;32m    532\u001b[0m         \u001b[0;32melse\u001b[0m\u001b[0;34m:\u001b[0m\u001b[0;34m\u001b[0m\u001b[0;34m\u001b[0m\u001b[0m\n\u001b[0;32m--> 533\u001b[0;31m             \u001b[0;32mraise\u001b[0m \u001b[0mFileNotFoundError\u001b[0m\u001b[0;34m(\u001b[0m\u001b[0;34mf\"{path} not found.\"\u001b[0m\u001b[0;34m)\u001b[0m\u001b[0;34m\u001b[0m\u001b[0;34m\u001b[0m\u001b[0m\n\u001b[0m\u001b[1;32m    534\u001b[0m \u001b[0;34m\u001b[0m\u001b[0m\n\u001b[1;32m    535\u001b[0m \u001b[0;34m\u001b[0m\u001b[0m\n",
            "\u001b[0;31mFileNotFoundError\u001b[0m: /content/sample_data/california_housing_train.csvt not found."
          ]
        }
      ]
    },
    {
      "cell_type": "code",
      "source": [
        "import numpy as np\n",
        "\n",
        "# Change the delimiter to a single character, either space or semicolon\n",
        "data = np.loadtxt(\"/content/BBRI2.csv\", delimiter=',')  # Or delimiter=' ' if space-separated\n",
        "print(data)"
      ],
      "metadata": {
        "colab": {
          "base_uri": "https://localhost:8080/"
        },
        "id": "LUEPehbVf8W2",
        "outputId": "c039d9cc-e09a-4cd8-f0b2-8e52ee994e82"
      },
      "execution_count": 24,
      "outputs": [
        {
          "output_type": "stream",
          "name": "stdout",
          "text": [
            "[[5600. 5600. 5425. 5425.]\n",
            " [5400. 5500. 5350. 5450.]\n",
            " [5475. 5475. 5350. 5400.]\n",
            " [5375. 5475. 5350. 5475.]\n",
            " [5425. 5450. 5375. 5425.]\n",
            " [5400. 5400. 5375. 5400.]\n",
            " [5400. 5550. 5400. 5550.]\n",
            " [5575. 5575. 5475. 5550.]\n",
            " [5475. 5525. 5450. 5525.]\n",
            " [5475. 5550. 5400. 5550.]\n",
            " [5500. 5525. 5450. 5525.]\n",
            " [5475. 5550. 5475. 5550.]\n",
            " [5500. 5575. 5500. 5575.]\n",
            " [5550. 5600. 5475. 5475.]\n",
            " [5425. 5475. 5400. 5400.]\n",
            " [5425. 5475. 5375. 5450.]\n",
            " [5450. 5500. 5425. 5425.]\n",
            " [5500. 5550. 5450. 5475.]\n",
            " [5500. 5500. 5425. 5450.]\n",
            " [5400. 5450. 5400. 5450.]\n",
            " [5450. 5475. 5400. 5425.]\n",
            " [5400. 5425. 5375. 5375.]\n",
            " [5425. 5500. 5400. 5400.]\n",
            " [5375. 5450. 5375. 5425.]\n",
            " [5450. 5475. 5425. 5450.]\n",
            " [5425. 5475. 5425. 5450.]\n",
            " [5450. 5525. 5425. 5525.]\n",
            " [5550. 5625. 5525. 5575.]\n",
            " [5625. 5700. 5600. 5625.]\n",
            " [5575. 5650. 5550. 5625.]\n",
            " [5600. 5625. 5575. 5625.]\n",
            " [5600. 5650. 5600. 5600.]\n",
            " [5625. 5700. 5625. 5650.]\n",
            " [5700. 5700. 5650. 5675.]\n",
            " [5675. 5750. 5650. 5650.]\n",
            " [5625. 5700. 5625. 5700.]\n",
            " [5700. 5700. 5650. 5650.]\n",
            " [5650. 5750. 5650. 5700.]\n",
            " [5650. 5725. 5650. 5700.]\n",
            " [5675. 5750. 5650. 5700.]\n",
            " [5700. 5725. 5575. 5575.]\n",
            " [5600. 5725. 5575. 5700.]\n",
            " [5700. 5750. 5600. 5625.]\n",
            " [5650. 5725. 5625. 5700.]\n",
            " [5675. 5725. 5675. 5700.]\n",
            " [5675. 5700. 5650. 5650.]\n",
            " [5650. 5675. 5575. 5650.]\n",
            " [5650. 5675. 5575. 5575.]\n",
            " [5550. 5575. 5450. 5525.]\n",
            " [5500. 5600. 5500. 5575.]\n",
            " [5550. 5575. 5500. 5500.]\n",
            " [5500. 5625. 5500. 5575.]\n",
            " [5600. 5625. 5575. 5600.]\n",
            " [5625. 5625. 5550. 5550.]\n",
            " [5550. 5600. 5525. 5600.]\n",
            " [5600. 5625. 5550. 5550.]\n",
            " [5525. 5600. 5525. 5600.]\n",
            " [5600. 5600. 5500. 5525.]\n",
            " [5525. 5550. 5475. 5550.]\n",
            " [5600. 5600. 5525. 5575.]\n",
            " [5600. 5625. 5575. 5625.]\n",
            " [5625. 5650. 5600. 5625.]\n",
            " [5625. 5650. 5575. 5575.]\n",
            " [5525. 5550. 5450. 5450.]\n",
            " [5425. 5450. 5300. 5350.]\n",
            " [5350. 5425. 5300. 5425.]\n",
            " [5450. 5475. 5375. 5375.]\n",
            " [5350. 5425. 5350. 5400.]\n",
            " [5325. 5425. 5325. 5425.]\n",
            " [5400. 5450. 5375. 5375.]\n",
            " [5350. 5400. 5300. 5325.]\n",
            " [5325. 5375. 5300. 5375.]\n",
            " [5350. 5450. 5350. 5375.]\n",
            " [5425. 5425. 5350. 5350.]\n",
            " [5350. 5425. 5350. 5350.]\n",
            " [5325. 5350. 5200. 5300.]\n",
            " [5250. 5275. 5200. 5200.]\n",
            " [5175. 5300. 5175. 5225.]\n",
            " [5300. 5325. 5225. 5225.]\n",
            " [5250. 5300. 5250. 5250.]\n",
            " [5250. 5300. 5250. 5275.]\n",
            " [5250. 5275. 5200. 5250.]\n",
            " [5250. 5275. 5175. 5175.]\n",
            " [5200. 5250. 5175. 5175.]\n",
            " [5200. 5225. 5125. 5125.]\n",
            " [5125. 5250. 5125. 5175.]\n",
            " [5150. 5275. 5150. 5250.]\n",
            " [5300. 5375. 5275. 5300.]\n",
            " [5275. 5325. 5250. 5275.]\n",
            " [5325. 5325. 5250. 5250.]\n",
            " [5250. 5275. 5150. 5150.]\n",
            " [5125. 5225. 5125. 5150.]\n",
            " [5100. 5150. 5000. 5000.]\n",
            " [4980. 5100. 4960. 5050.]\n",
            " [5000. 5075. 4990. 5000.]\n",
            " [5000. 5100. 4950. 5100.]\n",
            " [5100. 5200. 5100. 5175.]\n",
            " [5175. 5175. 4920. 4920.]\n",
            " [4950. 5050. 4940. 5000.]\n",
            " [4980. 5025. 4970. 5000.]\n",
            " [4980. 5000. 4960. 4960.]\n",
            " [4920. 4960. 4830. 4830.]\n",
            " [4940. 5075. 4910. 5000.]\n",
            " [5025. 5175. 5025. 5100.]\n",
            " [5100. 5200. 5100. 5200.]\n",
            " [5225. 5275. 5175. 5250.]\n",
            " [5200. 5250. 5175. 5225.]\n",
            " [5225. 5275. 5200. 5200.]\n",
            " [5150. 5150. 5050. 5075.]\n",
            " [5075. 5125. 5025. 5025.]\n",
            " [5075. 5125. 5050. 5075.]\n",
            " [5200. 5300. 5175. 5250.]\n",
            " [5275. 5275. 5175. 5250.]\n",
            " [5175. 5250. 5175. 5225.]\n",
            " [5175. 5275. 5175. 5250.]\n",
            " [5225. 5250. 5175. 5200.]\n",
            " [5175. 5300. 5175. 5275.]\n",
            " [5325. 5400. 5300. 5350.]\n",
            " [5400. 5450. 5375. 5400.]\n",
            " [5425. 5450. 5350. 5350.]\n",
            " [5325. 5425. 5325. 5350.]\n",
            " [5350. 5375. 5300. 5300.]\n",
            " [5375. 5375. 5275. 5275.]\n",
            " [5275. 5375. 5275. 5350.]\n",
            " [5450. 5575. 5450. 5500.]\n",
            " [5425. 5500. 5425. 5450.]\n",
            " [5425. 5450. 5400. 5425.]\n",
            " [5400. 5475. 5400. 5475.]\n",
            " [5425. 5450. 5375. 5375.]\n",
            " [5325. 5375. 5300. 5300.]\n",
            " [5375. 5400. 5325. 5325.]\n",
            " [5300. 5350. 5275. 5300.]\n",
            " [5450. 5550. 5425. 5550.]\n",
            " [5575. 5600. 5550. 5550.]\n",
            " [5575. 5575. 5500. 5500.]\n",
            " [5450. 5550. 5450. 5550.]\n",
            " [5700. 5700. 5550. 5550.]\n",
            " [5550. 5600. 5525. 5575.]\n",
            " [5650. 5700. 5600. 5675.]\n",
            " [5700. 5725. 5625. 5625.]\n",
            " [5700. 5750. 5675. 5725.]\n",
            " [5750. 5750. 5675. 5725.]\n",
            " [5650. 5675. 5625. 5675.]\n",
            " [5625. 5650. 5600. 5600.]\n",
            " [5600. 5700. 5575. 5700.]\n",
            " [5725. 5850. 5700. 5750.]\n",
            " [5750. 5800. 5625. 5625.]\n",
            " [5625. 5700. 5625. 5700.]\n",
            " [5625. 5700. 5625. 5700.]\n",
            " [5750. 5800. 5700. 5750.]\n",
            " [5800. 5850. 5775. 5850.]\n",
            " [5850. 5900. 5775. 5825.]\n",
            " [5825. 5875. 5775. 5825.]\n",
            " [5825. 5825. 5750. 5775.]\n",
            " [5800. 5800. 5700. 5750.]\n",
            " [5750. 5800. 5700. 5800.]\n",
            " [5775. 5800. 5700. 5775.]\n",
            " [5700. 5750. 5650. 5700.]\n",
            " [5675. 5700. 5575. 5650.]\n",
            " [5575. 5650. 5525. 5525.]\n",
            " [5450. 5475. 5400. 5425.]\n",
            " [5400. 5575. 5400. 5575.]\n",
            " [5525. 5650. 5475. 5625.]\n",
            " [5725. 5775. 5675. 5700.]\n",
            " [5775. 5800. 5725. 5750.]\n",
            " [5800. 5850. 5750. 5850.]\n",
            " [5800. 5825. 5750. 5775.]\n",
            " [5900. 5900. 5800. 5825.]\n",
            " [5850. 5900. 5825. 5850.]\n",
            " [5875. 6025. 5850. 6025.]\n",
            " [6050. 6050. 5950. 6000.]\n",
            " [6275. 6275. 6100. 6125.]\n",
            " [6150. 6200. 6125. 6150.]\n",
            " [6125. 6175. 6075. 6100.]\n",
            " [6175. 6300. 6175. 6300.]\n",
            " [6325. 6375. 6225. 6300.]\n",
            " [6250. 6300. 6225. 6250.]\n",
            " [6125. 6175. 6050. 6125.]\n",
            " [6100. 6200. 6075. 6175.]\n",
            " [6125. 6200. 6125. 6125.]\n",
            " [6100. 6225. 6100. 6225.]\n",
            " [6150. 6200. 6125. 6125.]\n",
            " [6175. 6175. 6075. 6125.]\n",
            " [6125. 6125. 6050. 6050.]\n",
            " [6100. 6175. 6075. 6125.]\n",
            " [6100. 6200. 6100. 6200.]\n",
            " [6200. 6275. 6200. 6225.]\n",
            " [6275. 6400. 6250. 6350.]\n",
            " [6350. 6450. 6350. 6400.]\n",
            " [6175. 6200. 6050. 6150.]\n",
            " [6000. 6075. 5950. 5975.]\n",
            " [6000. 6100. 5975. 6000.]\n",
            " [6000. 6050. 5975. 6000.]\n",
            " [6000. 6100. 6000. 6100.]\n",
            " [6175. 6200. 6100. 6100.]\n",
            " [6050. 6125. 6050. 6125.]\n",
            " [6250. 6250. 6125. 6250.]\n",
            " [6300. 6300. 6200. 6300.]\n",
            " [6300. 6325. 6225. 6250.]\n",
            " [6100. 6200. 6025. 6050.]\n",
            " [6000. 6025. 5825. 5925.]\n",
            " [5850. 5950. 5625. 5675.]\n",
            " [5575. 5675. 5525. 5625.]\n",
            " [5650. 5750. 5650. 5700.]\n",
            " [5625. 5700. 5625. 5650.]\n",
            " [5375. 5575. 5350. 5350.]\n",
            " [5475. 5500. 5300. 5300.]\n",
            " [5300. 5500. 5300. 5475.]\n",
            " [5350. 5375. 5250. 5275.]\n",
            " [5200. 5325. 5150. 5300.]\n",
            " [5350. 5400. 5225. 5300.]\n",
            " [5250. 5350. 5150. 5225.]\n",
            " [5125. 5200. 5050. 5150.]\n",
            " [5050. 5100. 4830. 4830.]\n",
            " [4700. 4890. 4680. 4770.]\n",
            " [4850. 5050. 4820. 4940.]\n",
            " [4910. 4920. 4700. 4760.]\n",
            " [4760. 4830. 4710. 4750.]\n",
            " [4800. 4840. 4730. 4790.]\n",
            " [4770. 4780. 4670. 4670.]\n",
            " [4650. 4740. 4570. 4680.]\n",
            " [4650. 4700. 4630. 4680.]\n",
            " [4720. 4810. 4700. 4730.]\n",
            " [4780. 4870. 4760. 4820.]\n",
            " [4930. 4960. 4840. 4840.]\n",
            " [4840. 4960. 4820. 4920.]\n",
            " [4990. 5050. 4820. 4820.]\n",
            " [4810. 4870. 4680. 4680.]\n",
            " [4650. 4770. 4650. 4720.]\n",
            " [4700. 4720. 4550. 4550.]\n",
            " [4580. 4630. 4520. 4530.]\n",
            " [4480. 4500. 4400. 4410.]\n",
            " [4400. 4480. 4310. 4380.]\n",
            " [4430. 4470. 4330. 4340.]\n",
            " [4430. 4560. 4400. 4530.]\n",
            " [4560. 4590. 4480. 4490.]]\n"
          ]
        }
      ]
    },
    {
      "cell_type": "code",
      "source": [
        "import pandas as pd\n",
        "\n",
        "df = pd.read_csv(\"/content/BBRI.JK.csv\")\n",
        "print(df)"
      ],
      "metadata": {
        "colab": {
          "base_uri": "https://localhost:8080/"
        },
        "id": "UBTV__hlgMmG",
        "outputId": "1fb37242-a8e2-4d8d-c5e3-ce2754ab7066"
      },
      "execution_count": 17,
      "outputs": [
        {
          "output_type": "stream",
          "name": "stdout",
          "text": [
            "           Date    Open    High     Low   Close    Adj Close     Volume\n",
            "0    2023-06-05  5600.0  5600.0  5425.0  5425.0  5149.125000  255472600\n",
            "1    2023-06-06  5400.0  5500.0  5350.0  5450.0  5172.854004   92019300\n",
            "2    2023-06-07  5475.0  5475.0  5350.0  5400.0  5125.396484  150377000\n",
            "3    2023-06-08  5375.0  5475.0  5350.0  5475.0  5196.582520   92794100\n",
            "4    2023-06-09  5425.0  5450.0  5375.0  5425.0  5149.125000   77251000\n",
            "..          ...     ...     ...     ...     ...          ...        ...\n",
            "231  2024-05-29  4480.0  4500.0  4400.0  4410.0  4410.000000  465008500\n",
            "232  2024-05-30  4400.0  4480.0  4310.0  4380.0  4380.000000  502927800\n",
            "233  2024-05-31  4430.0  4470.0  4330.0  4340.0  4340.000000  655144100\n",
            "234  2024-06-03  4430.0  4560.0  4400.0  4530.0  4530.000000  345770100\n",
            "235  2024-06-04  4560.0  4590.0  4480.0  4490.0  4490.000000  144676700\n",
            "\n",
            "[236 rows x 7 columns]\n"
          ]
        }
      ]
    },
    {
      "cell_type": "code",
      "source": [
        "df.info()"
      ],
      "metadata": {
        "colab": {
          "base_uri": "https://localhost:8080/"
        },
        "id": "sgdOz-_lgTdg",
        "outputId": "76822d53-fe7f-46ae-896f-de9b861d0ff3"
      },
      "execution_count": 18,
      "outputs": [
        {
          "output_type": "stream",
          "name": "stdout",
          "text": [
            "<class 'pandas.core.frame.DataFrame'>\n",
            "RangeIndex: 236 entries, 0 to 235\n",
            "Data columns (total 7 columns):\n",
            " #   Column     Non-Null Count  Dtype  \n",
            "---  ------     --------------  -----  \n",
            " 0   Date       236 non-null    object \n",
            " 1   Open       236 non-null    float64\n",
            " 2   High       236 non-null    float64\n",
            " 3   Low        236 non-null    float64\n",
            " 4   Close      236 non-null    float64\n",
            " 5   Adj Close  236 non-null    float64\n",
            " 6   Volume     236 non-null    int64  \n",
            "dtypes: float64(5), int64(1), object(1)\n",
            "memory usage: 13.0+ KB\n"
          ]
        }
      ]
    }
  ]
}