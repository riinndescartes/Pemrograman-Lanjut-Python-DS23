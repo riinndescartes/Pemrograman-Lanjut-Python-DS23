{
 "cells": [
  {
   "cell_type": "markdown",
   "metadata": {},
   "source": [
    "# ANALISIS DATA"
   ]
  },
  {
   "cell_type": "markdown",
   "metadata": {},
   "source": [
    "Mengimpor Library"
   ]
  },
  {
   "cell_type": "code",
   "execution_count": 2,
   "metadata": {},
   "outputs": [],
   "source": [
    "import pandas as pd \n",
    "import matplotlib.pyplot as plt"
   ]
  },
  {
   "cell_type": "markdown",
   "metadata": {},
   "source": [
    "Membuat Dataframe"
   ]
  },
  {
   "cell_type": "code",
   "execution_count": 8,
   "metadata": {},
   "outputs": [
    {
     "name": "stdout",
     "output_type": "stream",
     "text": [
      "<class 'dict'>\n",
      "   Tahun           Cakupan  Tingkat Inflasi\n",
      "0   2008      Kota Bandung            10.23\n",
      "1   2009  Prov. Jawa Barat             2.02\n",
      "2   2010          Nasional             4.53\n"
     ]
    }
   ],
   "source": [
    "\n",
    "\n",
    "data = { \n",
    "    'Tahun':[2008,2009,2010],\n",
    "    'Cakupan':['Kota Bandung', 'Prov. Jawa Barat', 'Nasional'],\n",
    "    'Tingkat Inflasi':[ 10.23, 2.02, 4.53]\n",
    "}\n",
    "\n",
    "print(type(data))\n",
    "df = pd.DataFrame(data)\n",
    "print(df)"
   ]
  },
  {
   "cell_type": "markdown",
   "metadata": {},
   "source": [
    "Membaca dan Menulis Data"
   ]
  },
  {
   "cell_type": "markdown",
   "metadata": {},
   "source": [
    "1. Membaca dataset CSV"
   ]
  },
  {
   "cell_type": "code",
   "execution_count": 3,
   "metadata": {},
   "outputs": [
    {
     "data": {
      "text/html": [
       "<div>\n",
       "<style scoped>\n",
       "    .dataframe tbody tr th:only-of-type {\n",
       "        vertical-align: middle;\n",
       "    }\n",
       "\n",
       "    .dataframe tbody tr th {\n",
       "        vertical-align: top;\n",
       "    }\n",
       "\n",
       "    .dataframe thead th {\n",
       "        text-align: right;\n",
       "    }\n",
       "</style>\n",
       "<table border=\"1\" class=\"dataframe\">\n",
       "  <thead>\n",
       "    <tr style=\"text-align: right;\">\n",
       "      <th></th>\n",
       "      <th>nama</th>\n",
       "      <th>fakultas</th>\n",
       "      <th>nilai_mat</th>\n",
       "      <th>nilai_kim</th>\n",
       "      <th>nilai_fis</th>\n",
       "    </tr>\n",
       "  </thead>\n",
       "  <tbody>\n",
       "    <tr>\n",
       "      <th>0</th>\n",
       "      <td>Farhan Fathur Rahman</td>\n",
       "      <td>FMIPA</td>\n",
       "      <td>57.21</td>\n",
       "      <td>34.14</td>\n",
       "      <td>38.93</td>\n",
       "    </tr>\n",
       "    <tr>\n",
       "      <th>1</th>\n",
       "      <td>Steven Margono</td>\n",
       "      <td>FMIPA</td>\n",
       "      <td>67.43</td>\n",
       "      <td>51.50</td>\n",
       "      <td>57.20</td>\n",
       "    </tr>\n",
       "    <tr>\n",
       "      <th>2</th>\n",
       "      <td>Ryan Sentosa</td>\n",
       "      <td>SAPPK</td>\n",
       "      <td>90.62</td>\n",
       "      <td>37.38</td>\n",
       "      <td>40.73</td>\n",
       "    </tr>\n",
       "    <tr>\n",
       "      <th>3</th>\n",
       "      <td>Muhajah Babny Muslim</td>\n",
       "      <td>FMIPA</td>\n",
       "      <td>72.31</td>\n",
       "      <td>38.80</td>\n",
       "      <td>44.79</td>\n",
       "    </tr>\n",
       "    <tr>\n",
       "      <th>4</th>\n",
       "      <td>Alvin Natawiguna</td>\n",
       "      <td>FTSL</td>\n",
       "      <td>65.45</td>\n",
       "      <td>57.67</td>\n",
       "      <td>56.39</td>\n",
       "    </tr>\n",
       "    <tr>\n",
       "      <th>...</th>\n",
       "      <td>...</td>\n",
       "      <td>...</td>\n",
       "      <td>...</td>\n",
       "      <td>...</td>\n",
       "      <td>...</td>\n",
       "    </tr>\n",
       "    <tr>\n",
       "      <th>5130</th>\n",
       "      <td>Khoirrashif</td>\n",
       "      <td>SITHR</td>\n",
       "      <td>66.14</td>\n",
       "      <td>46.82</td>\n",
       "      <td>56.74</td>\n",
       "    </tr>\n",
       "    <tr>\n",
       "      <th>5131</th>\n",
       "      <td>Jefri Hendri Adriano</td>\n",
       "      <td>FTSL</td>\n",
       "      <td>53.68</td>\n",
       "      <td>34.74</td>\n",
       "      <td>33.76</td>\n",
       "    </tr>\n",
       "    <tr>\n",
       "      <th>5132</th>\n",
       "      <td>Iki Hidayat</td>\n",
       "      <td>FITB</td>\n",
       "      <td>69.63</td>\n",
       "      <td>35.04</td>\n",
       "      <td>37.65</td>\n",
       "    </tr>\n",
       "    <tr>\n",
       "      <th>5133</th>\n",
       "      <td>Muhammad Nashir Sitompul</td>\n",
       "      <td>FTI</td>\n",
       "      <td>79.69</td>\n",
       "      <td>39.06</td>\n",
       "      <td>50.17</td>\n",
       "    </tr>\n",
       "    <tr>\n",
       "      <th>5134</th>\n",
       "      <td>Billy Richardo Sagala</td>\n",
       "      <td>STEI</td>\n",
       "      <td>68.68</td>\n",
       "      <td>51.23</td>\n",
       "      <td>66.18</td>\n",
       "    </tr>\n",
       "  </tbody>\n",
       "</table>\n",
       "<p>5135 rows × 5 columns</p>\n",
       "</div>"
      ],
      "text/plain": [
       "                          nama fakultas  nilai_mat  nilai_kim  nilai_fis\n",
       "0         Farhan Fathur Rahman    FMIPA      57.21      34.14      38.93\n",
       "1               Steven Margono    FMIPA      67.43      51.50      57.20\n",
       "2                 Ryan Sentosa    SAPPK      90.62      37.38      40.73\n",
       "3         Muhajah Babny Muslim    FMIPA      72.31      38.80      44.79\n",
       "4             Alvin Natawiguna     FTSL      65.45      57.67      56.39\n",
       "...                        ...      ...        ...        ...        ...\n",
       "5130               Khoirrashif    SITHR      66.14      46.82      56.74\n",
       "5131      Jefri Hendri Adriano     FTSL      53.68      34.74      33.76\n",
       "5132               Iki Hidayat     FITB      69.63      35.04      37.65\n",
       "5133  Muhammad Nashir Sitompul      FTI      79.69      39.06      50.17\n",
       "5134     Billy Richardo Sagala     STEI      68.68      51.23      66.18\n",
       "\n",
       "[5135 rows x 5 columns]"
      ]
     },
     "execution_count": 3,
     "metadata": {},
     "output_type": "execute_result"
    }
   ],
   "source": [
    "\n",
    "df = pd.read_csv('C:/Users/Lenovo/Documents/PEMROLAN/Dataset/Praktikum6/H05.csv')\n",
    "df"
   ]
  },
  {
   "cell_type": "markdown",
   "metadata": {},
   "source": [
    "Membaca dataframe excel"
   ]
  },
  {
   "cell_type": "code",
   "execution_count": null,
   "metadata": {},
   "outputs": [],
   "source": [
    "df = pd.read_excel('C:/Users/Lenovo/Documents/PEMROLAN/Dataset/H05.xlsx')\n",
    "df"
   ]
  },
  {
   "cell_type": "markdown",
   "metadata": {},
   "source": [
    "Menuliskan dataframe menjadi file dataset CSV atau Excel"
   ]
  },
  {
   "cell_type": "code",
   "execution_count": null,
   "metadata": {},
   "outputs": [],
   "source": [
    "df.to_csv('output.csv', index = False)"
   ]
  },
  {
   "cell_type": "code",
   "execution_count": null,
   "metadata": {},
   "outputs": [],
   "source": [
    "df.to_excel('output.xlsx', index = False)"
   ]
  },
  {
   "cell_type": "markdown",
   "metadata": {},
   "source": [
    "Mengakses Data"
   ]
  },
  {
   "cell_type": "code",
   "execution_count": 16,
   "metadata": {},
   "outputs": [
    {
     "name": "stdout",
     "output_type": "stream",
     "text": [
      "   Tahun       Cakupan  Tingkat Inflasi\n",
      "0   2008  Kota Bandung            10.23\n"
     ]
    }
   ],
   "source": [
    "#1. Memfilter data sesuai kategori\n",
    "filtered_data= df[df['Cakupan'] == 'Kota Bandung']\n",
    "print(filtered_data)"
   ]
  },
  {
   "cell_type": "code",
   "execution_count": null,
   "metadata": {},
   "outputs": [],
   "source": [
    "# 2. Mengambil data sesuai indexing\n",
    "# 2.1. Mengambil data baris ke-5 (index 4, karena indexing dimulai dari 0) \n",
    "print(df.loc[4]) #dia menggunakan .loc karena mengambil baris tunggal\n",
    "                    # kalau pakai .iloc untuk mengambil kolom tunggal"
   ]
  },
  {
   "cell_type": "code",
   "execution_count": null,
   "metadata": {},
   "outputs": [],
   "source": [
    "# 2.2. Mengambil data dari baris ke-5 hingga ke-7 (index 4 hingga 6) \n",
    "print(df[4:7])  #tidak menggunakan .loc karena mengambil data secara slicing, bukan tunggal"
   ]
  },
  {
   "cell_type": "code",
   "execution_count": null,
   "metadata": {},
   "outputs": [],
   "source": [
    "# 2.3. Mengambil data dari baris ke-17 (index 16) hingga akhir \n",
    "print(df[16:]) "
   ]
  },
  {
   "cell_type": "code",
   "execution_count": null,
   "metadata": {},
   "outputs": [],
   "source": [
    "# 2.4. Mengambil 5 data pertama \n",
    "print(df[:5]) "
   ]
  },
  {
   "cell_type": "code",
   "execution_count": null,
   "metadata": {},
   "outputs": [],
   "source": [
    "# 2.5. Melihat panjang (jumlah baris) dari DataFrame \n",
    "print(len(df)) "
   ]
  },
  {
   "cell_type": "code",
   "execution_count": null,
   "metadata": {},
   "outputs": [],
   "source": [
    "# 2.6. Mengambil nilai kolom \"Cakupan\" dari data baris ke-2 (index 1) \n",
    "print(df.loc[1, \"Cakupan\"]) "
   ]
  },
  {
   "cell_type": "code",
   "execution_count": null,
   "metadata": {},
   "outputs": [],
   "source": [
    "#3. Mengakses data berdasarkan kriteria yang kita butuhkan\n",
    "#3.1.  Mengambil data dengan tahun 2012 \n",
    "print(df.loc[df[\"Tahun\"] == 2012]) "
   ]
  },
  {
   "cell_type": "code",
   "execution_count": null,
   "metadata": {},
   "outputs": [],
   "source": [
    "# 3.2. Mengambil data Kota Bandung sebelum tahun 2012 \n",
    "print(df.loc[(df[\"Cakupan\"] == \"Kota Bandung\") & (df[\"Tahun\"] < 2012)]) "
   ]
  },
  {
   "cell_type": "code",
   "execution_count": null,
   "metadata": {},
   "outputs": [],
   "source": [
    "# 3.3. Mengambil data dengan tingkat inflasi di atas 10 atau di bawah 3 \n",
    "print(df.loc[(df[\"Tingkat_Inflasi\"] > 10) | (df[\"Tingkat_Inflasi\"] < 3)]) "
   ]
  },
  {
   "cell_type": "markdown",
   "metadata": {},
   "source": [
    "Mengambil Nilai Extreme (Paling tinggi atau paling rendah)"
   ]
  },
  {
   "cell_type": "code",
   "execution_count": null,
   "metadata": {},
   "outputs": [
    {
     "data": {
      "text/plain": [
       "10.23"
      ]
     },
     "execution_count": 26,
     "metadata": {},
     "output_type": "execute_result"
    }
   ],
   "source": [
    "max_inflasi = df['Tingkat Inflasi'].max()\n",
    "max_inflasi\n"
   ]
  },
  {
   "cell_type": "code",
   "execution_count": 27,
   "metadata": {},
   "outputs": [
    {
     "data": {
      "text/plain": [
       "2.02"
      ]
     },
     "execution_count": 27,
     "metadata": {},
     "output_type": "execute_result"
    }
   ],
   "source": [
    "min_inflasi = df['Tingkat Inflasi'].min()\n",
    "min_inflasi"
   ]
  },
  {
   "cell_type": "markdown",
   "metadata": {},
   "source": [
    "Mengurutkan Data\n"
   ]
  },
  {
   "cell_type": "code",
   "execution_count": null,
   "metadata": {},
   "outputs": [
    {
     "data": {
      "text/html": [
       "<div>\n",
       "<style scoped>\n",
       "    .dataframe tbody tr th:only-of-type {\n",
       "        vertical-align: middle;\n",
       "    }\n",
       "\n",
       "    .dataframe tbody tr th {\n",
       "        vertical-align: top;\n",
       "    }\n",
       "\n",
       "    .dataframe thead th {\n",
       "        text-align: right;\n",
       "    }\n",
       "</style>\n",
       "<table border=\"1\" class=\"dataframe\">\n",
       "  <thead>\n",
       "    <tr style=\"text-align: right;\">\n",
       "      <th></th>\n",
       "      <th>Tahun</th>\n",
       "      <th>Cakupan</th>\n",
       "      <th>Tingkat Inflasi</th>\n",
       "    </tr>\n",
       "  </thead>\n",
       "  <tbody>\n",
       "    <tr>\n",
       "      <th>1</th>\n",
       "      <td>2009</td>\n",
       "      <td>Prov. Jawa Barat</td>\n",
       "      <td>2.02</td>\n",
       "    </tr>\n",
       "    <tr>\n",
       "      <th>2</th>\n",
       "      <td>2010</td>\n",
       "      <td>Nasional</td>\n",
       "      <td>4.53</td>\n",
       "    </tr>\n",
       "    <tr>\n",
       "      <th>0</th>\n",
       "      <td>2008</td>\n",
       "      <td>Kota Bandung</td>\n",
       "      <td>10.23</td>\n",
       "    </tr>\n",
       "  </tbody>\n",
       "</table>\n",
       "</div>"
      ],
      "text/plain": [
       "   Tahun           Cakupan  Tingkat Inflasi\n",
       "1   2009  Prov. Jawa Barat             2.02\n",
       "2   2010          Nasional             4.53\n",
       "0   2008      Kota Bandung            10.23"
      ]
     },
     "execution_count": 19,
     "metadata": {},
     "output_type": "execute_result"
    }
   ],
   "source": [
    "#Ascending:\n",
    "df_sorted = df.sort_values(by='Tingkat Inflasi', ascending=True)\n",
    "df_sorted"
   ]
  },
  {
   "cell_type": "code",
   "execution_count": 29,
   "metadata": {},
   "outputs": [
    {
     "data": {
      "text/html": [
       "<div>\n",
       "<style scoped>\n",
       "    .dataframe tbody tr th:only-of-type {\n",
       "        vertical-align: middle;\n",
       "    }\n",
       "\n",
       "    .dataframe tbody tr th {\n",
       "        vertical-align: top;\n",
       "    }\n",
       "\n",
       "    .dataframe thead th {\n",
       "        text-align: right;\n",
       "    }\n",
       "</style>\n",
       "<table border=\"1\" class=\"dataframe\">\n",
       "  <thead>\n",
       "    <tr style=\"text-align: right;\">\n",
       "      <th></th>\n",
       "      <th>Tahun</th>\n",
       "      <th>Cakupan</th>\n",
       "      <th>Tingkat Inflasi</th>\n",
       "    </tr>\n",
       "  </thead>\n",
       "  <tbody>\n",
       "    <tr>\n",
       "      <th>0</th>\n",
       "      <td>2008</td>\n",
       "      <td>Kota Bandung</td>\n",
       "      <td>10.23</td>\n",
       "    </tr>\n",
       "    <tr>\n",
       "      <th>2</th>\n",
       "      <td>2010</td>\n",
       "      <td>Nasional</td>\n",
       "      <td>4.53</td>\n",
       "    </tr>\n",
       "    <tr>\n",
       "      <th>1</th>\n",
       "      <td>2009</td>\n",
       "      <td>Prov. Jawa Barat</td>\n",
       "      <td>2.02</td>\n",
       "    </tr>\n",
       "  </tbody>\n",
       "</table>\n",
       "</div>"
      ],
      "text/plain": [
       "   Tahun           Cakupan  Tingkat Inflasi\n",
       "0   2008      Kota Bandung            10.23\n",
       "2   2010          Nasional             4.53\n",
       "1   2009  Prov. Jawa Barat             2.02"
      ]
     },
     "execution_count": 29,
     "metadata": {},
     "output_type": "execute_result"
    }
   ],
   "source": [
    "#Desc\n",
    "df_sorted = df.sort_values(by='Tingkat Inflasi', ascending=False)\n",
    "\n",
    "df_sorted"
   ]
  },
  {
   "cell_type": "markdown",
   "metadata": {},
   "source": [
    "Tabel Frekuensi"
   ]
  },
  {
   "cell_type": "code",
   "execution_count": 20,
   "metadata": {},
   "outputs": [
    {
     "name": "stdout",
     "output_type": "stream",
     "text": [
      "Tahun\n",
      "2008    1\n",
      "2009    1\n",
      "2010    1\n",
      "Name: count, dtype: int64\n"
     ]
    }
   ],
   "source": [
    "frequency_table = df['Tahun'].value_counts()\n",
    "print(frequency_table)\n"
   ]
  },
  {
   "cell_type": "markdown",
   "metadata": {},
   "source": [
    "Menentukan Range"
   ]
  },
  {
   "cell_type": "code",
   "execution_count": 22,
   "metadata": {},
   "outputs": [
    {
     "data": {
      "text/plain": [
       "8.21"
      ]
     },
     "execution_count": 22,
     "metadata": {},
     "output_type": "execute_result"
    }
   ],
   "source": [
    "range_inflasi = df['Tingkat Inflasi'].max() - df['Tingkat Inflasi'].min()\n",
    "range_inflasi"
   ]
  },
  {
   "cell_type": "code",
   "execution_count": null,
   "metadata": {},
   "outputs": [],
   "source": [
    "min = df.min()\n",
    "max = df.max()\n",
    "\n",
    "print(max[\"Tingkat Inflasi\"])\n",
    "print(min[\"Tingkat Inflasi\"])"
   ]
  },
  {
   "cell_type": "markdown",
   "metadata": {},
   "source": [
    "Statistik Deskriptif dari Dataset"
   ]
  },
  {
   "cell_type": "code",
   "execution_count": 23,
   "metadata": {},
   "outputs": [
    {
     "name": "stdout",
     "output_type": "stream",
     "text": [
      "        Tahun  Tingkat Inflasi\n",
      "count     3.0         3.000000\n",
      "mean   2009.0         5.593333\n",
      "std       1.0         4.207022\n",
      "min    2008.0         2.020000\n",
      "25%    2008.5         3.275000\n",
      "50%    2009.0         4.530000\n",
      "75%    2009.5         7.380000\n",
      "max    2010.0        10.230000\n"
     ]
    }
   ],
   "source": [
    "info = df.describe()\n",
    "print(info)\n"
   ]
  },
  {
   "cell_type": "code",
   "execution_count": null,
   "metadata": {},
   "outputs": [],
   "source": [
    "#Menghitung estimator seluruh kolom (mean semua kolom)\n",
    "df.mean()"
   ]
  },
  {
   "cell_type": "code",
   "execution_count": null,
   "metadata": {},
   "outputs": [],
   "source": [
    "#Menghitung nilai estimator tunggal (Mean)\n",
    "df[\"Tingkat Inflasi\"].mean()"
   ]
  },
  {
   "cell_type": "code",
   "execution_count": null,
   "metadata": {},
   "outputs": [],
   "source": [
    "#Menghitung nilai estimator tunggal (Standar Deviation)\n",
    "df[\"Tingkat Inflasi\"].std() #untuk stdv populasi\n",
    "#df[\"Tingkat Inflasi\"].std(ddof=1) #untuk stdv sampel\n"
   ]
  },
  {
   "cell_type": "markdown",
   "metadata": {},
   "source": [
    "Koefisien Korelasi"
   ]
  },
  {
   "cell_type": "code",
   "execution_count": 24,
   "metadata": {},
   "outputs": [
    {
     "name": "stdout",
     "output_type": "stream",
     "text": [
      "-0.6774388302247065\n"
     ]
    }
   ],
   "source": [
    "correlation = df['Tingkat Inflasi'].corr(df['Tahun'])\n",
    "print(correlation)"
   ]
  },
  {
   "cell_type": "markdown",
   "metadata": {},
   "source": [
    "# VISUALISASI DATA"
   ]
  },
  {
   "cell_type": "markdown",
   "metadata": {},
   "source": [
    "1. Memuat Library"
   ]
  },
  {
   "cell_type": "code",
   "execution_count": null,
   "metadata": {},
   "outputs": [],
   "source": [
    "import pandas as pd \n",
    "import matplotlib.pyplot as plt "
   ]
  },
  {
   "cell_type": "markdown",
   "metadata": {},
   "source": [
    "2. Membuat Dataframe"
   ]
  },
  {
   "cell_type": "code",
   "execution_count": null,
   "metadata": {},
   "outputs": [],
   "source": [
    "# Membaca file CSV \n",
    "data = pd.read_csv(\"data.csv\") \n",
    "medali = pd.read_csv(\"medali.csv\") \n",
    "animal = pd.read_csv(\"animal.csv\") "
   ]
  },
  {
   "cell_type": "markdown",
   "metadata": {},
   "source": [
    "3. Bar Chart"
   ]
  },
  {
   "cell_type": "code",
   "execution_count": null,
   "metadata": {},
   "outputs": [],
   "source": [
    "#3.1. Bar Chart Lurus Ke Atas\n",
    "\n",
    "# Membaca file CSV \n",
    "data = pd.read_csv(\"data.csv\") \n",
    "# Membuat vertical bar chart untuk menampilkan umur dari setiap orang \n",
    "data.plot(kind=\"bar\", x=\"name\", y=\"age\", title=\"Age of Person\") \n",
    "# Menampilkan plot \n",
    "plt.show() "
   ]
  },
  {
   "cell_type": "code",
   "execution_count": null,
   "metadata": {},
   "outputs": [],
   "source": [
    "# 3.2. Bar Chart Lurus Ke Samping \n",
    "\n",
    "# Membaca file CSV \n",
    "data = pd.read_csv(\"data.csv\") \n",
    " \n",
    "# Membuat vertical bar chart untuk menampilkan num_children dan num_pets \n",
    "data.plot(kind=\"bar\", x=\"name\", y=[\"num_children\", \"num_pets\"], title=\"Number of Children and Pets\") \n",
    " \n",
    "# Menampilkan plot \n",
    "plt.show() "
   ]
  },
  {
   "cell_type": "code",
   "execution_count": null,
   "metadata": {},
   "outputs": [],
   "source": [
    "#3.3. Bar Chart Double Lurus Ke Atas\n",
    "# Membaca file CSV \n",
    "data = pd.read_csv(\"data.csv\") \n",
    " \n",
    "# Membuat horizontal bar chart untuk menampilkan umur dari setiap orang \n",
    "data.plot(kind=\"barh\", x=\"name\", y=\"age\", title=\"Age of Person\", color=\"red\") \n",
    " \n",
    "# Menampilkan plot \n",
    "plt.show() "
   ]
  },
  {
   "cell_type": "markdown",
   "metadata": {},
   "source": [
    "4. Histogram"
   ]
  },
  {
   "cell_type": "code",
   "execution_count": null,
   "metadata": {},
   "outputs": [],
   "source": [
    "# Membaca file CSV \n",
    "data = pd.read_csv(\"data.csv\") \n",
    "# Membuat histogram orang berdasarkan kelompok umur \n",
    "data[[\"age\"]].plot(kind=\"hist\", bins=[0, 20, 40, 60, 80, 100], rwidth=0.8, title=\"Age Groups Distribution\") \n",
    "# Menampilkan plot \n",
    "plt.show() "
   ]
  },
  {
   "cell_type": "markdown",
   "metadata": {},
   "source": [
    "5. Pie Chart"
   ]
  },
  {
   "cell_type": "code",
   "execution_count": null,
   "metadata": {},
   "outputs": [],
   "source": [
    "# Membaca file CSV \n",
    "data = pd.read_csv(\"data.csv\") \n",
    "# Membuat pie chart berdasarkan jumlah orang per negara \n",
    "data[\"state\"].value_counts().plot(kind=\"pie\", autopct='%1.1f%%', title=\"Composition of People by State\") \n",
    "# Menampilkan plot \n",
    "plt.show() "
   ]
  },
  {
   "cell_type": "markdown",
   "metadata": {},
   "source": [
    "6. Stacked Bar Chart (Bar Menumpuk)"
   ]
  },
  {
   "cell_type": "code",
   "execution_count": null,
   "metadata": {},
   "outputs": [],
   "source": [
    "#6.1. Menumpuk Lebih dari Dua Kategori\n",
    "\n",
    "# Membaca file CSV \n",
    "data = pd.read_csv(\"data.csv\") \n",
    " \n",
    "# Membuat stacked bar chart berdasarkan gender per state \n",
    "data.groupby([\"gender\", \"state\"])[\"name\"].size().unstack().plot( \n",
    "    kind=\"bar\", stacked=True, title=\"Data Count by Gender and State\" \n",
    ") \n",
    " \n",
    "# Menampilkan plot \n",
    "plt.show() "
   ]
  },
  {
   "cell_type": "code",
   "execution_count": null,
   "metadata": {},
   "outputs": [],
   "source": [
    "#6.2. Menumpuk Dua Kategori\n",
    "\n",
    "# Membaca file CSV \n",
    "data = pd.read_csv(\"data.csv\") \n",
    " \n",
    "# Membuat stacked bar chart untuk num_children dan num_pets \n",
    "data.plot( \n",
    "    kind=\"bar\",  \n",
    "    x=\"name\",  \n",
    "    y=[\"num_children\", \"num_pets\"],  \n",
    "    stacked=True,  \n",
    "    title=\"Number of Children and Pets\" \n",
    ") \n",
    " \n",
    "# Menampilkan plot \n",
    "plt.show() "
   ]
  },
  {
   "cell_type": "markdown",
   "metadata": {},
   "source": [
    "7. Line Chart"
   ]
  },
  {
   "cell_type": "code",
   "execution_count": null,
   "metadata": {},
   "outputs": [],
   "source": [
    "animal = pd.read_csv(\"animal.csv\") \n",
    "animal.plot( kind=\" line\",x=\" Year\",y=\" Bears\") \n",
    "plt.show() "
   ]
  },
  {
   "cell_type": "code",
   "execution_count": null,
   "metadata": {},
   "outputs": [],
   "source": [
    "# Membaca file CSV yang berisi data populasi hewan \n",
    "animal = pd.read_csv(\"animal.csv\") \n",
    "# Membuat line chart untuk menampilkan pertumbuhan populasi beruang, lumba-lumba, dan ikan paus dari \n",
    "tahun ke tahun \n",
    "# kind=\"line\" -> Membuat grafik garis \n",
    "# x=\"Year\" -> Menggunakan kolom \"Year\" sebagai sumbu x \n",
    "# y=[\"Bears\", \"Dolphins\", \"Whales\"] -> Menggunakan kolom \"Bears\", \"Dolphins\", dan \"Whales\" sebagai data pada sumbu y \n",
    "animal.plot(kind=\"line\", x=\"Year\", y=[\"Bears\", \"Dolphins\", \"Whales\"]) \n",
    "# Menampilkan grafik \n",
    "plt.show() "
   ]
  },
  {
   "cell_type": "markdown",
   "metadata": {},
   "source": [
    "8. Area Chart"
   ]
  },
  {
   "cell_type": "code",
   "execution_count": null,
   "metadata": {},
   "outputs": [],
   "source": [
    "# Pertumbuhan populasi lumba - lumba ( Dolphins) dari tahun ke tahun # dalam area chart \n",
    "animal. plot( kind=\" area\",x=\" Year\", y=\" Dolphins\") "
   ]
  },
  {
   "cell_type": "code",
   "execution_count": null,
   "metadata": {},
   "outputs": [],
   "source": [
    "# Pertumbuhan populasi lumba - lumba ( Dolphins), ikan paus ( Whales), dan beruang ( Bears), \n",
    "#  dari  tahun  ke  tahun  dalam  stacked  area   \n",
    "chart animal. plot( kind=\" area\",x=\" Year\", y=[\" Dolphins\",\" Whales\",\" Bears\"]) "
   ]
  },
  {
   "cell_type": "markdown",
   "metadata": {},
   "source": [
    "9. Scatter dan Bubble Plot "
   ]
  },
  {
   "cell_type": "code",
   "execution_count": null,
   "metadata": {},
   "outputs": [],
   "source": [
    "# Relationship antara variable gold dan total dalam grafik scatter plot # dan tunjukkan adanya korelasi positif \n",
    "medali.plot( kind=\" scatter\", x=\" gold\", y=\" total\") "
   ]
  },
  {
   "cell_type": "code",
   "execution_count": null,
   "metadata": {},
   "outputs": [],
   "source": [
    "# Banyaknya total medali dikaitkan dengan perolehan nilai medali emas ( gold) \n",
    "# pada sumbu x dan perolehan medali perak ( silver) pada sumbu y \n",
    "# dalam grafik bubble plot \n",
    "medali. plot( kind=\" scatter\",x=\" gold\", y=\" silver\", sizes=medali[\" total\"], color=\" orange\") "
   ]
  }
 ],
 "metadata": {
  "kernelspec": {
   "display_name": "Python 3",
   "language": "python",
   "name": "python3"
  },
  "language_info": {
   "codemirror_mode": {
    "name": "ipython",
    "version": 3
   },
   "file_extension": ".py",
   "mimetype": "text/x-python",
   "name": "python",
   "nbconvert_exporter": "python",
   "pygments_lexer": "ipython3",
   "version": "3.11.5"
  }
 },
 "nbformat": 4,
 "nbformat_minor": 2
}
